{
  "nbformat": 4,
  "nbformat_minor": 0,
  "metadata": {
    "colab": {
      "provenance": []
    },
    "kernelspec": {
      "name": "python3",
      "display_name": "Python 3"
    },
    "language_info": {
      "name": "python"
    }
  },
  "cells": [
    {
      "cell_type": "markdown",
      "source": [
        "# Conversation Memory\n",
        "\n",
        "Conversational memory is a way for chatbots to remember previous interactions with users. This allows them to respond to queries in a more coherent way and to provide a more natural conversation experience.\n",
        "\n",
        "In this notebook, we will explore how to use conversational memory with the LangChain library."
      ],
      "metadata": {
        "id": "yHU1-I02jWy-"
      }
    },
    {
      "cell_type": "code",
      "source": [
        "!pip install -qU langchain openai tiktoken"
      ],
      "metadata": {
        "colab": {
          "base_uri": "https://localhost:8080/"
        },
        "id": "X15B1iZQkAEk",
        "outputId": "5e19ca77-cbde-440f-85f4-adf832b9ab56"
      },
      "execution_count": 1,
      "outputs": [
        {
          "output_type": "stream",
          "name": "stdout",
          "text": [
            "\u001b[2K     \u001b[90m━━━━━━━━━━━━━━━━━━━━━━━━━━━━━━━━━━━━━━━━\u001b[0m \u001b[32m803.3/803.3 kB\u001b[0m \u001b[31m4.9 MB/s\u001b[0m eta \u001b[36m0:00:00\u001b[0m\n",
            "\u001b[2K     \u001b[90m━━━━━━━━━━━━━━━━━━━━━━━━━━━━━━━━━━━━━━━━\u001b[0m \u001b[32m225.4/225.4 kB\u001b[0m \u001b[31m5.4 MB/s\u001b[0m eta \u001b[36m0:00:00\u001b[0m\n",
            "\u001b[2K     \u001b[90m━━━━━━━━━━━━━━━━━━━━━━━━━━━━━━━━━━━━━━━━\u001b[0m \u001b[32m2.0/2.0 MB\u001b[0m \u001b[31m11.1 MB/s\u001b[0m eta \u001b[36m0:00:00\u001b[0m\n",
            "\u001b[2K     \u001b[90m━━━━━━━━━━━━━━━━━━━━━━━━━━━━━━━━━━━━━━━━\u001b[0m \u001b[32m1.5/1.5 MB\u001b[0m \u001b[31m14.0 MB/s\u001b[0m eta \u001b[36m0:00:00\u001b[0m\n",
            "\u001b[2K     \u001b[90m━━━━━━━━━━━━━━━━━━━━━━━━━━━━━━━━━━━━━━━━\u001b[0m \u001b[32m208.0/208.0 kB\u001b[0m \u001b[31m15.7 MB/s\u001b[0m eta \u001b[36m0:00:00\u001b[0m\n",
            "\u001b[2K     \u001b[90m━━━━━━━━━━━━━━━━━━━━━━━━━━━━━━━━━━━━━━━━\u001b[0m \u001b[32m48.2/48.2 kB\u001b[0m \u001b[31m2.2 MB/s\u001b[0m eta \u001b[36m0:00:00\u001b[0m\n",
            "\u001b[2K     \u001b[90m━━━━━━━━━━━━━━━━━━━━━━━━━━━━━━━━━━━━━━━━\u001b[0m \u001b[32m75.9/75.9 kB\u001b[0m \u001b[31m3.9 MB/s\u001b[0m eta \u001b[36m0:00:00\u001b[0m\n",
            "\u001b[2K     \u001b[90m━━━━━━━━━━━━━━━━━━━━━━━━━━━━━━━━━━━━━━━━\u001b[0m \u001b[32m49.4/49.4 kB\u001b[0m \u001b[31m1.9 MB/s\u001b[0m eta \u001b[36m0:00:00\u001b[0m\n",
            "\u001b[2K     \u001b[90m━━━━━━━━━━━━━━━━━━━━━━━━━━━━━━━━━━━━━━━━\u001b[0m \u001b[32m76.9/76.9 kB\u001b[0m \u001b[31m4.9 MB/s\u001b[0m eta \u001b[36m0:00:00\u001b[0m\n",
            "\u001b[2K     \u001b[90m━━━━━━━━━━━━━━━━━━━━━━━━━━━━━━━━━━━━━━━━\u001b[0m \u001b[32m58.3/58.3 kB\u001b[0m \u001b[31m1.8 MB/s\u001b[0m eta \u001b[36m0:00:00\u001b[0m\n",
            "\u001b[?25h\u001b[31mERROR: pip's dependency resolver does not currently take into account all the packages that are installed. This behaviour is the source of the following dependency conflicts.\n",
            "llmx 0.0.15a0 requires cohere, which is not installed.\n",
            "tensorflow-probability 0.22.0 requires typing-extensions<4.6.0, but you have typing-extensions 4.9.0 which is incompatible.\u001b[0m\u001b[31m\n",
            "\u001b[0m"
          ]
        }
      ]
    },
    {
      "cell_type": "code",
      "source": [
        "import inspect\n",
        "\n",
        "from getpass import getpass\n",
        "from langchain import OpenAI\n",
        "from langchain.chains import LLMChain, ConversationChain\n",
        "from langchain.chains.conversation.memory import (ConversationBufferMemory,\n",
        "                                                  ConversationSummaryMemory,\n",
        "                                                  ConversationBufferWindowMemory,\n",
        "                                                  ConversationKGMemory)\n",
        "\n",
        "from langchain.callbacks import get_openai_callback\n",
        "import tiktoken"
      ],
      "metadata": {
        "id": "jlI9bLwjkcje"
      },
      "execution_count": 2,
      "outputs": []
    },
    {
      "cell_type": "code",
      "source": [
        "import os\n",
        "\n",
        "os.environ['OPENAI_API_KEY'] = getpass()"
      ],
      "metadata": {
        "colab": {
          "base_uri": "https://localhost:8080/"
        },
        "id": "RMyFWyXXlYVx",
        "outputId": "04d6f881-4839-45b8-bf80-9a22ee3409c3"
      },
      "execution_count": 14,
      "outputs": [
        {
          "name": "stdout",
          "output_type": "stream",
          "text": [
            "··········\n"
          ]
        }
      ]
    },
    {
      "cell_type": "code",
      "source": [
        "from langchain.chat_models import ChatOpenAI\n",
        "llm = ChatOpenAI(\n",
        "    temperature = 0,\n",
        "    model_name = \"gpt-4\"  # can be used with gpt-4 as well\n",
        ")"
      ],
      "metadata": {
        "id": "0BWL0JxPljhS"
      },
      "execution_count": 15,
      "outputs": []
    },
    {
      "cell_type": "code",
      "source": [
        "# We will be using this function later to count the number of tokens we are using for each call.\n",
        "\n",
        "def count_tokens(chain, query):\n",
        "  with get_openai_callback() as cb:\n",
        "    result = chain.run(query)\n",
        "    print(f'Spent a total of {cb.total_tokens} tokens.')\n",
        "\n",
        "    return result"
      ],
      "metadata": {
        "id": "ebMfPBfrmGvR"
      },
      "execution_count": 5,
      "outputs": []
    },
    {
      "cell_type": "markdown",
      "source": [
        "### What is a memory?\n",
        "\n",
        "Memory refers to an agent's ability to recall past interactions with the user, particularly in the context of chatbots.\n",
        "\n",
        "The official definition of memory is as follows:\n",
        "\n",
        "By default, Chains and Agents operate in a stateless manner, treating each incoming query independently. In certain applications, such as chatbots, it becomes crucial to retain information from previous interactions, both in the short and long term. The concept of \"Memory\" is designed to fulfill this need.\n",
        "\n",
        "As we explore further, it becomes evident that, despite its apparent simplicity, there are various methods to implement this memory capability.\n",
        "\n",
        "Before delving into the diverse memory modules provided by the library, we will introduce the chain used in the upcoming examples: the ConversationChain.\n",
        "\n",
        "As is customary, gaining an understanding of a chain involves examining its prompt first and then delving into its ._call method. As highlighted in the chain chapter, the prompt can be accessed by exploring the template within the prompt attribute."
      ],
      "metadata": {
        "id": "lTQF5BQyn5KX"
      }
    },
    {
      "cell_type": "code",
      "source": [
        "# By default CoversationChain uses ConversationBufferMemory(). It store raw conversation.\n",
        "\n",
        "conversation_chain = ConversationChain(\n",
        "    # memory: BaseMemory = ConversationBufferMemory,\n",
        "   llm = llm,\n",
        "\n",
        ")"
      ],
      "metadata": {
        "id": "2EvHwTf5oxPB"
      },
      "execution_count": 6,
      "outputs": []
    },
    {
      "cell_type": "code",
      "source": [
        "print(conversation_chain.prompt.template)"
      ],
      "metadata": {
        "colab": {
          "base_uri": "https://localhost:8080/"
        },
        "id": "xdx0KqBbpmqP",
        "outputId": "84f0052e-7cc6-42f5-cca9-a7de66350248"
      },
      "execution_count": 7,
      "outputs": [
        {
          "output_type": "stream",
          "name": "stdout",
          "text": [
            "The following is a friendly conversation between a human and an AI. The AI is talkative and provides lots of specific details from its context. If the AI does not know the answer to a question, it truthfully says it does not know.\n",
            "\n",
            "Current conversation:\n",
            "{history}\n",
            "Human: {input}\n",
            "AI:\n"
          ]
        }
      ]
    },
    {
      "cell_type": "markdown",
      "source": [
        "In this chain's prompt, the instruction is to engage in a conversation with the user while endeavoring to provide truthful responses. Upon closer examination, a novel element appears in the prompt is \"**history**.\" This is the crucial aspect where our memory function will be put into action."
      ],
      "metadata": {
        "id": "9al9OFNDsmul"
      }
    },
    {
      "cell_type": "markdown",
      "source": [
        "This chain combines an input from the user with the conversation history to generate a meaningful (and hopefully truthful) response."
      ],
      "metadata": {
        "id": "fI6RVHyAnBkU"
      }
    },
    {
      "cell_type": "code",
      "source": [],
      "metadata": {
        "id": "y3EViYY4l13X"
      },
      "execution_count": null,
      "outputs": []
    },
    {
      "cell_type": "markdown",
      "source": [
        "## Memory types:\n"
      ],
      "metadata": {
        "id": "MhN41O3-nHUB"
      }
    },
    {
      "cell_type": "markdown",
      "source": [
        "### 1. ConversationBufferMemory\n",
        "\n",
        "This keep the buffer of all the previous conversation without modifying at all."
      ],
      "metadata": {
        "id": "IwNO_W0Xo4BZ"
      }
    },
    {
      "cell_type": "code",
      "source": [
        "conversation_buffer = ConversationChain(\n",
        "    llm = llm,\n",
        "  c  memory = ConversationBufferMemory()\n",
        ")"
      ],
      "metadata": {
        "id": "M91FNHG3o0R7"
      },
      "execution_count": 16,
      "outputs": []
    },
    {
      "cell_type": "code",
      "source": [
        "conversation_buffer(\"Hello! How are you doing?\")"
      ],
      "metadata": {
        "colab": {
          "base_uri": "https://localhost:8080/"
        },
        "id": "aEsLjspOpcfT",
        "outputId": "72a7a8aa-ab3a-4a52-af2b-920b06ad84d1"
      },
      "execution_count": 17,
      "outputs": [
        {
          "output_type": "execute_result",
          "data": {
            "text/plain": [
              "{'input': 'Hello! How are you doing?',\n",
              " 'history': '',\n",
              " 'response': \"Hello! As an artificial intelligence, I don't have feelings, but I'm functioning as expected and ready to assist you. How can I help you today?\"}"
            ]
          },
          "metadata": {},
          "execution_count": 17
        }
      ]
    },
    {
      "cell_type": "code",
      "source": [
        "# Let's call this from the count_token function which we created earlier so we can keep a track of token count.\n",
        "\n",
        "count_tokens(\n",
        "    conversation_buffer,\n",
        "    \"I am great. BTW can you tell me somthing about Generative AI?\"\n",
        ")"
      ],
      "metadata": {
        "colab": {
          "base_uri": "https://localhost:8080/",
          "height": 237
        },
        "id": "dj9J1PXgplry",
        "outputId": "2ef9591e-e18d-42f4-a3e0-430a3e5600bb"
      },
      "execution_count": 18,
      "outputs": [
        {
          "output_type": "stream",
          "name": "stdout",
          "text": [
            "Spent a total of 336 tokens.\n"
          ]
        },
        {
          "output_type": "execute_result",
          "data": {
            "text/plain": [
              "\"Absolutely, I'd be happy to explain. Generative AI is a subset of artificial intelligence that focuses on creating new content. It's a type of machine learning, specifically a type of unsupervised learning, where the AI system learns from the data without explicit programming.\\n\\nThe most common types of Generative AI models are Generative Adversarial Networks (GANs), Variational Autoencoders (VAEs), and Transformer models. \\n\\nGANs, for example, consist of two parts: a generator and a discriminator. The generator creates new data instances, while the discriminator evaluates them for authenticity; i.e., whether they come from the actual training dataset or were created by the generator. The goal of the generator is to fool the discriminator into thinking the instances it creates are from the actual dataset.\\n\\nGenerative AI has been used in a variety of applications, including creating realistic images, synthesizing human-like text, composing music, and even designing drug molecules for pharmaceutical research. However, it's a rapidly evolving field and there's still much to learn and discover.\""
            ],
            "application/vnd.google.colaboratory.intrinsic+json": {
              "type": "string"
            }
          },
          "metadata": {},
          "execution_count": 18
        }
      ]
    },
    {
      "cell_type": "code",
      "source": [
        "\n",
        "count_tokens(\n",
        "    conversation_buffer,\n",
        "    \"Awesome! Well I am Yashasvi Shukla and you tell me how AI is different from GenAI?\"\n",
        ")"
      ],
      "metadata": {
        "colab": {
          "base_uri": "https://localhost:8080/",
          "height": 218
        },
        "id": "xgNNkMOOsAYN",
        "outputId": "3b5eece5-254c-4732-d49c-0105e42309d6"
      },
      "execution_count": 19,
      "outputs": [
        {
          "output_type": "stream",
          "name": "stdout",
          "text": [
            "Spent a total of 535 tokens.\n"
          ]
        },
        {
          "output_type": "execute_result",
          "data": {
            "text/plain": [
              "'Nice to meet you, Yashasvi Shukla! Artificial Intelligence (AI) is a broad term that refers to machines or software that exhibit capabilities that mimic or replicate human intelligence. This can include tasks like learning, reasoning, problem-solving, perception, and language understanding.\\n\\nGenerative AI, on the other hand, is a specific subset of AI. While AI in general can include anything from a simple decision tree to a complex deep learning model, Generative AI specifically refers to models that can generate new, previously unseen content. This content can be anything from images to text to music, and is created based on patterns the model has learned from its training data.\\n\\nSo, in essence, all Generative AI is AI, but not all AI is Generative AI. Generative AI is a specialized tool with unique capabilities within the larger AI toolbox.'"
            ],
            "application/vnd.google.colaboratory.intrinsic+json": {
              "type": "string"
            }
          },
          "metadata": {},
          "execution_count": 19
        }
      ]
    },
    {
      "cell_type": "code",
      "source": [
        "\n",
        "count_tokens(\n",
        "    conversation_buffer,\n",
        "    \"Great! I got it. I am willing to master Generative AI and I believe your knowedge will help me\"\n",
        ")"
      ],
      "metadata": {
        "colab": {
          "base_uri": "https://localhost:8080/",
          "height": 218
        },
        "id": "VVBPvQaWslh9",
        "outputId": "6ecab756-6cdc-4c7d-f962-88b47c0e2df4"
      },
      "execution_count": 20,
      "outputs": [
        {
          "output_type": "stream",
          "name": "stdout",
          "text": [
            "Spent a total of 739 tokens.\n"
          ]
        },
        {
          "output_type": "execute_result",
          "data": {
            "text/plain": [
              "\"That's fantastic, Yashasvi Shukla! I'm glad to hear of your interest in Generative AI. There are many resources available to help you learn more about this fascinating field. Online courses, textbooks, research papers, and tutorials can all be valuable resources. \\n\\nYou might want to start with foundational knowledge in machine learning and deep learning, as understanding these concepts is crucial for mastering Generative AI. Then, you can delve into specific topics like Generative Adversarial Networks (GANs), Variational Autoencoders (VAEs), and Transformer models.\\n\\nRemember, practical experience is also important. Try to implement what you learn through projects. This will not only help you understand the concepts better but also give you hands-on experience.\\n\\nAnd of course, I'm here to assist you with any questions or concepts you might find difficult to understand. Happy learning!\""
            ],
            "application/vnd.google.colaboratory.intrinsic+json": {
              "type": "string"
            }
          },
          "metadata": {},
          "execution_count": 20
        }
      ]
    },
    {
      "cell_type": "code",
      "source": [
        "\n",
        "count_tokens(\n",
        "    conversation_buffer,\n",
        "    \"Sure. Wanted to check back if you remember my name and aim?\"\n",
        ")"
      ],
      "metadata": {
        "colab": {
          "base_uri": "https://localhost:8080/",
          "height": 72
        },
        "id": "LINDEMNBte7Q",
        "outputId": "f4456533-8591-4fdb-b3cc-1505e95e83e9"
      },
      "execution_count": 21,
      "outputs": [
        {
          "output_type": "stream",
          "name": "stdout",
          "text": [
            "Spent a total of 788 tokens.\n"
          ]
        },
        {
          "output_type": "execute_result",
          "data": {
            "text/plain": [
              "\"Of course, Yashasvi Shukla! Your aim is to master Generative AI. I'm here to assist you on your learning journey.\""
            ],
            "application/vnd.google.colaboratory.intrinsic+json": {
              "type": "string"
            }
          },
          "metadata": {},
          "execution_count": 21
        }
      ]
    },
    {
      "cell_type": "markdown",
      "source": [
        "We can clearly see that the ConversationBufferMemory remember everything we discussed during the conversation. Let's look at the buffer"
      ],
      "metadata": {
        "id": "xBlym8XYvux1"
      }
    },
    {
      "cell_type": "code",
      "source": [
        "print(conversation_buffer.memory.buffer)"
      ],
      "metadata": {
        "colab": {
          "base_uri": "https://localhost:8080/"
        },
        "id": "i9jH3Luwt2oe",
        "outputId": "9b833cf5-f089-4c26-8bb1-9fdf8a9e215c"
      },
      "execution_count": 22,
      "outputs": [
        {
          "output_type": "stream",
          "name": "stdout",
          "text": [
            "Human: Hello! How are you doing?\n",
            "AI: Hello! As an artificial intelligence, I don't have feelings, but I'm functioning as expected and ready to assist you. How can I help you today?\n",
            "Human: I am great. BTW can you tell me somthing about Generative AI?\n",
            "AI: Absolutely, I'd be happy to explain. Generative AI is a subset of artificial intelligence that focuses on creating new content. It's a type of machine learning, specifically a type of unsupervised learning, where the AI system learns from the data without explicit programming.\n",
            "\n",
            "The most common types of Generative AI models are Generative Adversarial Networks (GANs), Variational Autoencoders (VAEs), and Transformer models. \n",
            "\n",
            "GANs, for example, consist of two parts: a generator and a discriminator. The generator creates new data instances, while the discriminator evaluates them for authenticity; i.e., whether they come from the actual training dataset or were created by the generator. The goal of the generator is to fool the discriminator into thinking the instances it creates are from the actual dataset.\n",
            "\n",
            "Generative AI has been used in a variety of applications, including creating realistic images, synthesizing human-like text, composing music, and even designing drug molecules for pharmaceutical research. However, it's a rapidly evolving field and there's still much to learn and discover.\n",
            "Human: Awesome! Well I am Yashasvi Shukla and you tell me how AI is different from GenAI?\n",
            "AI: Nice to meet you, Yashasvi Shukla! Artificial Intelligence (AI) is a broad term that refers to machines or software that exhibit capabilities that mimic or replicate human intelligence. This can include tasks like learning, reasoning, problem-solving, perception, and language understanding.\n",
            "\n",
            "Generative AI, on the other hand, is a specific subset of AI. While AI in general can include anything from a simple decision tree to a complex deep learning model, Generative AI specifically refers to models that can generate new, previously unseen content. This content can be anything from images to text to music, and is created based on patterns the model has learned from its training data.\n",
            "\n",
            "So, in essence, all Generative AI is AI, but not all AI is Generative AI. Generative AI is a specialized tool with unique capabilities within the larger AI toolbox.\n",
            "Human: Great! I got it. I am willing to master Generative AI and I believe your knowedge will help me\n",
            "AI: That's fantastic, Yashasvi Shukla! I'm glad to hear of your interest in Generative AI. There are many resources available to help you learn more about this fascinating field. Online courses, textbooks, research papers, and tutorials can all be valuable resources. \n",
            "\n",
            "You might want to start with foundational knowledge in machine learning and deep learning, as understanding these concepts is crucial for mastering Generative AI. Then, you can delve into specific topics like Generative Adversarial Networks (GANs), Variational Autoencoders (VAEs), and Transformer models.\n",
            "\n",
            "Remember, practical experience is also important. Try to implement what you learn through projects. This will not only help you understand the concepts better but also give you hands-on experience.\n",
            "\n",
            "And of course, I'm here to assist you with any questions or concepts you might find difficult to understand. Happy learning!\n",
            "Human: Sure. Wanted to check back if you remember my name and aim?\n",
            "AI: Of course, Yashasvi Shukla! Your aim is to master Generative AI. I'm here to assist you on your learning journey.\n"
          ]
        }
      ]
    },
    {
      "cell_type": "markdown",
      "source": [
        "In the buffer we can see that each conversation is stored into the memory as an history."
      ],
      "metadata": {
        "id": "Efho_byMwccG"
      }
    },
    {
      "cell_type": "code",
      "source": [],
      "metadata": {
        "id": "HkwIXe2IwYpD"
      },
      "execution_count": null,
      "outputs": []
    },
    {
      "cell_type": "markdown",
      "source": [
        "### 2. ConversationSummaryMemory"
      ],
      "metadata": {
        "id": "TQx-1k2TxPYE"
      }
    },
    {
      "cell_type": "markdown",
      "source": [
        "ConversationBufferMemory() seems to be working great but as it is storing every conversation in the raw format and every new input is getting add up to the history, it might hit the maximum token limit of the llm.\n",
        "\n",
        "However, this problem can be solved using ConversationSummaryMemory(). By name itself we can infer that instead of raw text history, it will be keep summarized version of conversation history, where summarization is performed by an LLM."
      ],
      "metadata": {
        "id": "d-8s1yCPxVyZ"
      }
    },
    {
      "cell_type": "code",
      "source": [
        "conversation_summary = ConversationChain(\n",
        "    llm = llm,\n",
        "    memory = ConversationSummaryMemory(llm = llm)\n",
        ")"
      ],
      "metadata": {
        "id": "-dDnv9BHxVCE"
      },
      "execution_count": 25,
      "outputs": []
    },
    {
      "cell_type": "code",
      "source": [
        "print(conversation_summary.memory.prompt.template)"
      ],
      "metadata": {
        "colab": {
          "base_uri": "https://localhost:8080/"
        },
        "id": "qigyUcPGy9Vt",
        "outputId": "c6dbcf5e-8a81-4728-d59b-25e4ae69fdf8"
      },
      "execution_count": 28,
      "outputs": [
        {
          "output_type": "stream",
          "name": "stdout",
          "text": [
            "Progressively summarize the lines of conversation provided, adding onto the previous summary returning a new summary.\n",
            "\n",
            "EXAMPLE\n",
            "Current summary:\n",
            "The human asks what the AI thinks of artificial intelligence. The AI thinks artificial intelligence is a force for good.\n",
            "\n",
            "New lines of conversation:\n",
            "Human: Why do you think artificial intelligence is a force for good?\n",
            "AI: Because artificial intelligence will help humans reach their full potential.\n",
            "\n",
            "New summary:\n",
            "The human asks what the AI thinks of artificial intelligence. The AI thinks artificial intelligence is a force for good because it will help humans reach their full potential.\n",
            "END OF EXAMPLE\n",
            "\n",
            "Current summary:\n",
            "{summary}\n",
            "\n",
            "New lines of conversation:\n",
            "{new_lines}\n",
            "\n",
            "New summary:\n"
          ]
        }
      ]
    },
    {
      "cell_type": "markdown",
      "source": [
        "That Interesting!! Above you can see that the new interaction is summarized and got appended to the summary.\n"
      ],
      "metadata": {
        "id": "2-tSKyM20QgP"
      }
    },
    {
      "cell_type": "markdown",
      "source": [
        "Let pass the same piece of text which we passed to ConversationBufferMemory()"
      ],
      "metadata": {
        "id": "aUg-ehgi1vE2"
      }
    },
    {
      "cell_type": "code",
      "source": [],
      "metadata": {
        "id": "57MiW_Wm1tqX"
      },
      "execution_count": null,
      "outputs": []
    },
    {
      "cell_type": "code",
      "source": [
        "conversation_summary(\"Hello! How are you doing?\")\n"
      ],
      "metadata": {
        "colab": {
          "base_uri": "https://localhost:8080/"
        },
        "id": "czihqWqHzVud",
        "outputId": "2f5d0ebf-b086-4806-fb1a-88ce2d2c8104"
      },
      "execution_count": 32,
      "outputs": [
        {
          "output_type": "execute_result",
          "data": {
            "text/plain": [
              "{'input': 'Hello! How are you doing?',\n",
              " 'history': '',\n",
              " 'response': \"Hello! As an artificial intelligence, I don't have feelings, but I'm functioning as expected. How can I assist you today?\"}"
            ]
          },
          "metadata": {},
          "execution_count": 32
        }
      ]
    },
    {
      "cell_type": "code",
      "source": [
        "conversation_summary(\n",
        "    \"I am great. BTW can you tell me somthing about Generative AI?\"\n",
        ")\n"
      ],
      "metadata": {
        "colab": {
          "base_uri": "https://localhost:8080/"
        },
        "id": "fQ9un8rY1s_5",
        "outputId": "c9441231-5d65-4dd5-9554-2b349f59683c"
      },
      "execution_count": 33,
      "outputs": [
        {
          "output_type": "execute_result",
          "data": {
            "text/plain": [
              "{'input': 'I am great. BTW can you tell me somthing about Generative AI?',\n",
              " 'history': \"The human greets the AI and asks how it's doing. The AI responds that, as an artificial intelligence, it doesn't have feelings but is functioning as expected and asks how it can assist the human.\",\n",
              " 'response': \"Absolutely, I'd be happy to explain. Generative AI is a subset of artificial intelligence that focuses on creating new content. It's a type of machine learning, specifically a type of unsupervised learning, where the AI is given a set of data and then uses that data to generate new, similar content.\\n\\nOne of the most common examples of Generative AI is a Generative Adversarial Network (GAN). GANs consist of two parts: a generator, which creates new data, and a discriminator, which tries to distinguish the generated data from the real, original data. The two parts work together, with the generator constantly improving its data creation and the discriminator constantly improving its ability to detect real data from generated data.\\n\\nGenerative AI has been used in a variety of fields, from creating realistic images and music, to generating text and even designing new molecules for drug discovery. However, it's important to note that while Generative AI can create impressive results, it's still a developing field and there are many challenges to overcome, such as ensuring the generated content is of high quality and ethically created.\"}"
            ]
          },
          "metadata": {},
          "execution_count": 33
        }
      ]
    },
    {
      "cell_type": "code",
      "source": [
        "count_tokens(\n",
        "    conversation_summary,\n",
        "    \"Awesome! Well I am Yashasvi Shukla and you tell me how AI is different from GenAI?\"\n",
        ")\n"
      ],
      "metadata": {
        "colab": {
          "base_uri": "https://localhost:8080/",
          "height": 237
        },
        "id": "3K-pMzli2Idc",
        "outputId": "2402356c-3127-46f6-bfc1-16f884563dea"
      },
      "execution_count": 34,
      "outputs": [
        {
          "output_type": "stream",
          "name": "stdout",
          "text": [
            "Spent a total of 1130 tokens.\n"
          ]
        },
        {
          "output_type": "execute_result",
          "data": {
            "text/plain": [
              "\"Hello Yashasvi Shukla, nice to meet you! Artificial Intelligence (AI) is a broad term that refers to machines or software exhibiting intelligence. It's about creating systems that can perform tasks that would normally require human intelligence, such as understanding natural language, recognizing patterns, solving problems, and making decisions.\\n\\nGenerative AI, on the other hand, is a specific subset of AI. It's focused on creating new content or data that is similar to the input data it's been trained on. This could be anything from creating a new piece of music that sounds like it was composed by Beethoven, to generating realistic images of people who don't exist, or even writing a new chapter of a book in the style of a particular author.\\n\\nSo, in essence, while AI is the broad concept of machines mimicking human intelligence, Generative AI is a specific application of AI that focuses on creation of new, original content.\""
            ],
            "application/vnd.google.colaboratory.intrinsic+json": {
              "type": "string"
            }
          },
          "metadata": {},
          "execution_count": 34
        }
      ]
    },
    {
      "cell_type": "code",
      "source": [
        "count_tokens(\n",
        "    conversation_summary,\n",
        "    \"Great! I got it. I am willing to master Generative AI and I believe your knowedge will help me\"\n",
        ")\n"
      ],
      "metadata": {
        "colab": {
          "base_uri": "https://localhost:8080/",
          "height": 145
        },
        "id": "RVuO48Ak2YG1",
        "outputId": "a5fa3368-32b0-45cb-9eb9-3671e6d31eb6"
      },
      "execution_count": 35,
      "outputs": [
        {
          "output_type": "stream",
          "name": "stdout",
          "text": [
            "Spent a total of 1224 tokens.\n"
          ]
        },
        {
          "output_type": "execute_result",
          "data": {
            "text/plain": [
              "\"That's fantastic, Yashasvi! I'd be more than happy to assist you in your journey to mastering Generative AI. We can start with the basics and gradually move to more complex concepts. We can cover topics like machine learning, deep learning, neural networks, and of course, Generative Adversarial Networks (GANs). We can also explore various applications and case studies of Generative AI. Remember, understanding AI and machine learning is a process, and it's okay to take your time to fully grasp each concept. Let's start whenever you're ready!\""
            ],
            "application/vnd.google.colaboratory.intrinsic+json": {
              "type": "string"
            }
          },
          "metadata": {},
          "execution_count": 35
        }
      ]
    },
    {
      "cell_type": "code",
      "source": [
        "count_tokens(\n",
        "    conversation_summary,\n",
        "    \"Sure. Wanted to check back if you remember my name and aim?\"\n",
        ")"
      ],
      "metadata": {
        "colab": {
          "base_uri": "https://localhost:8080/",
          "height": 54
        },
        "id": "mUctLMcb2as8",
        "outputId": "a431715a-422f-4e1d-e601-6267e4034d1c"
      },
      "execution_count": 36,
      "outputs": [
        {
          "output_type": "stream",
          "name": "stdout",
          "text": [
            "Spent a total of 1051 tokens.\n"
          ]
        },
        {
          "output_type": "execute_result",
          "data": {
            "text/plain": [
              "'Yes, your name is Yashasvi Shukla and your aim is to master Generative AI.'"
            ],
            "application/vnd.google.colaboratory.intrinsic+json": {
              "type": "string"
            }
          },
          "metadata": {},
          "execution_count": 36
        }
      ]
    },
    {
      "cell_type": "code",
      "source": [
        "conversation_summary.memory.buffer"
      ],
      "metadata": {
        "colab": {
          "base_uri": "https://localhost:8080/",
          "height": 182
        },
        "id": "8TLla94v2blu",
        "outputId": "ce3cedb3-0dff-46d9-f153-9cede12c468b"
      },
      "execution_count": 38,
      "outputs": [
        {
          "output_type": "execute_result",
          "data": {
            "text/plain": [
              "\"The human, Yashasvi Shukla, greets the AI and asks about its functionality and Generative AI. The AI explains that it's functioning as expected and that Generative AI is a subset of artificial intelligence that creates new content, using machine learning and Generative Adversarial Networks (GANs). It also differentiates between AI and Generative AI, stating that AI is a broad term for machines or software exhibiting intelligence, while Generative AI is a specific subset focused on creating new content. Yashasvi expresses a desire to master Generative AI, and the AI offers to assist, suggesting a gradual learning process covering various topics and applications of Generative AI. When Yashasvi checks if the AI remembers their name and aim, the AI confirms that it does.\""
            ],
            "application/vnd.google.colaboratory.intrinsic+json": {
              "type": "string"
            }
          },
          "metadata": {},
          "execution_count": 38
        }
      ]
    },
    {
      "cell_type": "markdown",
      "source": [
        "You may be pondering why one would opt for this type of memory when the aggregate token count is higher in each call compared to the buffer example. The rationale behind this choice becomes apparent when we examine the buffer. Despite employing more tokens in each conversation instance, our ultimate history is actually shorter. This feature allows us to engage in a greater number of interactions before hitting the maximum length of our prompt, enhancing the resilience of our chatbot in handling longer conversations."
      ],
      "metadata": {
        "id": "5kaAVPgu3gGT"
      }
    },
    {
      "cell_type": "code",
      "source": [],
      "metadata": {
        "id": "8fjYEcJF25x2"
      },
      "execution_count": null,
      "outputs": []
    },
    {
      "cell_type": "markdown",
      "source": [
        "### There are few more memory types!!"
      ],
      "metadata": {
        "id": "wwV_Gftb5WTb"
      }
    },
    {
      "cell_type": "markdown",
      "source": [
        "### 3. ConversationBufferWindowMemory\n",
        "\n",
        "A compelling alternative in such scenarios is the ConversationBufferWindowMemory. In this approach, we retain a subset of the recent interactions in our memory, deliberately discarding the oldest ones—a form of short-term memory, if you will. This results in a significant reduction in both aggregate token count and per-call token count. The window size in this context is regulated by the parameter k. However, with this memory we will be forgeting the history conversation as it completely based on the number of conversation you are willing to store in memory i.e., k parameter."
      ],
      "metadata": {
        "id": "uOet7UnT3x08"
      }
    },
    {
      "cell_type": "markdown",
      "source": [
        "### 4. CoversationSummaryBufferMemory\n",
        "\n",
        "The ConversationSummaryBufferMemory maintains a summary of initial conversation elements while preserving an unprocessed recollection of the most recent interactions. This dual functionality ensures a comprehensive memory representation that encompasses both summarized insights from the early stages of the conversation and the raw details of recent exchanges."
      ],
      "metadata": {
        "id": "jBUxhVy94OXt"
      }
    },
    {
      "cell_type": "code",
      "source": [],
      "metadata": {
        "id": "u5l8CuM632qI"
      },
      "execution_count": null,
      "outputs": []
    },
    {
      "cell_type": "markdown",
      "source": [
        "### 5. ConversationKnowledgeGraphMemory\n",
        "\n",
        "Recently introduced, this memory type is exceptionally fascinating. It operates on the principle of a knowledge graph, identifying various entities and linking them in pairs through a predicate, forming (subject, predicate, object) triplets. This allows for the compression of substantial information into meaningful snippets that can serve as context for the model. For a more in-depth understanding of this memory type, you can refer to [this](https://apex974.com/articles/explore-langchain-support-for-knowledge-graph) blogpost."
      ],
      "metadata": {
        "id": "W8cLt-TD5gTo"
      }
    },
    {
      "cell_type": "code",
      "source": [
        "conversation_kg = ConversationChain(\n",
        "    llm=llm,\n",
        "    memory=ConversationKGMemory(llm=llm)\n",
        ")"
      ],
      "metadata": {
        "id": "IcQN5nSL6JrF"
      },
      "execution_count": 39,
      "outputs": []
    },
    {
      "cell_type": "code",
      "source": [
        "conversation_kg(\"I am Yashasvi and I love exploring new places.\")"
      ],
      "metadata": {
        "colab": {
          "base_uri": "https://localhost:8080/"
        },
        "id": "7UqT6cyY6RA7",
        "outputId": "8e2a05c3-5e47-403c-b490-6c1019db91a8"
      },
      "execution_count": 41,
      "outputs": [
        {
          "output_type": "execute_result",
          "data": {
            "text/plain": [
              "{'input': 'I am Yashasvi and I love exploring new places.',\n",
              " 'history': '',\n",
              " 'response': \"Hello Yashasvi! It's great to meet someone with a passion for exploration. There's so much to see and learn in the world. Are there any specific regions or types of places you're particularly interested in? For example, are you more drawn to natural landscapes like mountains and forests, or do you prefer exploring cities and their cultural landmarks?\"}"
            ]
          },
          "metadata": {},
          "execution_count": 41
        }
      ]
    },
    {
      "cell_type": "code",
      "source": [
        "count_tokens(\n",
        "    conversation_kg,\n",
        "    \"Can you suggest some places which I can explore in Varanasi?\"\n",
        ")"
      ],
      "metadata": {
        "colab": {
          "base_uri": "https://localhost:8080/",
          "height": 237
        },
        "id": "lHx2QtE76cTg",
        "outputId": "9191eacc-9a55-45b7-8e78-47ad476abee3"
      },
      "execution_count": 42,
      "outputs": [
        {
          "output_type": "stream",
          "name": "stdout",
          "text": [
            "Spent a total of 1911 tokens.\n"
          ]
        },
        {
          "output_type": "execute_result",
          "data": {
            "text/plain": [
              "\"Absolutely! Varanasi, also known as Benares, is one of the oldest living cities in the world and is rich in cultural and spiritual heritage. Here are some places you might want to explore:\\n\\n1. Kashi Vishwanath Temple: This is one of the most famous Hindu temples dedicated to Lord Shiva. It's located on the western bank of the holy river Ganges.\\n\\n2. Dashashwamedh Ghat: This is the main and probably the oldest ghat of Varanasi located on the Ganges. It's close to the Kashi Vishwanath Temple and is known for its evening aarti.\\n\\n3. Manikarnika Ghat: This is the primary cremation ghat in Varanasi. It's a powerful place that provides a stark reminder of the cycle of life and death.\\n\\n4. Assi Ghat: This is where pilgrims pay homage to Lord Shiva before bathing in the river. It's a peaceful place, perfect for watching the sunrise.\\n\\n5. Sarnath: Located just outside Varanasi, this is where Buddha gave his first sermon after attaining enlightenment.\\n\\n6. Ramnagar Fort: This 18th-century fort on the eastern bank of the Ganges is the home of the former King of Varanasi. It houses a museum displaying the royal collection.\\n\\n7. Banaras Hindu University: One of the largest residential universities in Asia, with a beautiful sprawling campus.\\n\\n8. The alleys of old Varanasi: These narrow, winding lanes are full of surprises, including tiny shops, hidden temples, and delicious street food.\\n\\nRemember, Varanasi is not just about places, it's about experiencing the spirituality, the culture, and the rhythm of life that flows there. Enjoy your trip!\""
            ],
            "application/vnd.google.colaboratory.intrinsic+json": {
              "type": "string"
            }
          },
          "metadata": {},
          "execution_count": 42
        }
      ]
    },
    {
      "cell_type": "code",
      "source": [
        "conversation_kg.memory.kg.get_triples()"
      ],
      "metadata": {
        "colab": {
          "base_uri": "https://localhost:8080/"
        },
        "id": "bpffKjr-6xIj",
        "outputId": "19008a84-c22b-4cb0-e2d5-c2bf1e8a538f"
      },
      "execution_count": 43,
      "outputs": [
        {
          "output_type": "execute_result",
          "data": {
            "text/plain": [
              "[('Yashasvi', 'I', 'is'), ('Yashasvi', 'exploring new places', 'loves')]"
            ]
          },
          "metadata": {},
          "execution_count": 43
        }
      ]
    },
    {
      "cell_type": "code",
      "source": [],
      "metadata": {
        "id": "QD1Agj4P64HH"
      },
      "execution_count": null,
      "outputs": []
    }
  ]
}