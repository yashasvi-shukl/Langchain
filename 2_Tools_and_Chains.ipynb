{
  "nbformat": 4,
  "nbformat_minor": 0,
  "metadata": {
    "colab": {
      "provenance": []
    },
    "kernelspec": {
      "name": "python3",
      "display_name": "Python 3"
    },
    "language_info": {
      "name": "python"
    }
  },
  "cells": [
    {
      "cell_type": "code",
      "source": [
        "!pip install langchain openai huggingface_hub -q"
      ],
      "metadata": {
        "id": "EQNZP9XCgKr7"
      },
      "execution_count": 9,
      "outputs": []
    },
    {
      "cell_type": "code",
      "source": [
        "import os\n",
        "os.environ['OPENAI_API_KEY'] = \"\""
      ],
      "metadata": {
        "id": "5MlWc_B8gi3j"
      },
      "execution_count": 10,
      "outputs": []
    },
    {
      "cell_type": "code",
      "source": [
        "from langchain.llms import OpenAI\n",
        "from langchain.prompts import PromptTemplate\n",
        "from langchain.chains import LLMChain\n",
        "\n",
        "llm = OpenAI(model_name = \"text-davinci-003\",\n",
        "             temperature = 0,\n",
        "             max_tokens = 256)"
      ],
      "metadata": {
        "id": "9uBcJPuAgWbx"
      },
      "execution_count": 12,
      "outputs": []
    },
    {
      "cell_type": "code",
      "source": [
        "article = \"\"\"It may well be another 24 hours or more before the 40 workers trapped since November 12 inside a collapsed portion of an under-construction tunnel on the Char Dham highway project in Uttarakhand can be pulled out, officials have said amidst the ongoing race against time to successfully complete the rescue mission.\n",
        "\n",
        "Boring machines from Dehradun and a team of eight experts are at the site where a portion of the upcoming 4.5-km tunnel between Silkyara and Barkot on the Yamunotri-Gangotri national highway collapsed due to landslide, leaving the workers trapped. The Rs 853-crore tunnel is part of the contentious Char Dham all-weather road project. The roof of a 100-metre stretch caved in at around 5.30 am on November 12 while workers were carrying out re-profiling work, a statement from the ministry of road transport and highways (MoRTH) said.\n",
        "\n",
        "Uttarakhand State Disaster Management Authority officials said special machines had been deployed to bore a pipe into the dense rubble so that the trapped workers can be evacuated through it, adding that the rescue operation was a tough challenge in itself thanks to the condition of the soil at the mishap site. “This is the only way. The soil there is loose. The boring will have to be done with extreme care or else the rescue machines might also collapse,” Dr Ranjit Kumar Sinha, secretary, disaster management, Uttarakhand, told INDIA TODAY.\n",
        "\n",
        "Officials of the National Highways & Infrastructure Development Corporation Limited (NHIDCL), under MoRTH, claimed the trapped workers had ample space inside to move around and had been provided food. “The impression that they are somehow trapped under the debris is not true. The roof collapsed midway. Thankfully, there is around 2 km worth of open space inside on the blind side of the tunnel for them move around,” said a senior ministry official.\n",
        "\n",
        "There is electricity and contact has been established with the workers through walkie-talkie. “They (trapped workers) said they were fine but needed food. We have been able to insert a pressure pipe of 4-inch diameter to supply dry fruits to them,” the official said. In multiple posts on social media platform X on November 13, the NHIDCL said mobilisation of men, material and machinery to push a 900-mm (35 inches) diameter steel pipe with the help of hydraulic jack for evacuation of workers, was in process. “Experts from RVNL (Rail Vikas Nigam Limited), RITES (Rail India Technical and Economic Service), [Uttarakhand State Disaster Management] Authority’s engineers, multi-agencies such as SDRF (State Disaster Response Force), NDRF (National Disaster Response Force), and other senior officials rushed to the site for close monitoring of the rescue operation. We want to assure that all necessary measures are being taken and adequate machinery has been deployed,” the NHIDCL said in a post.\n",
        "\n",
        "MoRTH did not commit to when the rescue would conclude. “All coordinated efforts are being made to evacuate the stranded workforce at the earliest,” the ministry’s statement said. It added that the construction of the tunnel would “immensely benefit pilgrims” as it would provide all-weather connectivity and reduce travel across a 25.6 km snow-affected length of NH-134 (Dharasu-Barkot-Yamunotri road) to 4.5 km, cutting travel time from 50 minutes to five.\n",
        "\n",
        "NHIDCL contractor Navyug Engineering Company had begun constructing the tunnel in July 2018 with a target to complete it by July 2022. “The work is delayed. With the present progress of work at 56 per cent, it was likely to be completed by May 14, 2024,” the ministry statement said.\n",
        "\n",
        "This is yet another landslide-related mishap to hit the Rs 12,000-crore Char Dham Highway project, essentially a road-widening exercise, which has been mired in controversy ever since it was sanctioned in 2016. During monsoon this year, another leg of the project, the Badrinath highway, remained closed for days thanks to portions collapsing.\n",
        "\n",
        "Locals as well as environmentalists have been protesting against the massive construction exercise, claiming it is destabilising the fragile mountain ecosystem—a charge the Union government has refuted repeatedly.\n",
        "\n",
        "The 850-km Char Dham project seeks to connect the four Hindu shrines of Gangotri, Yamunotri, Kedarnath and Badrinath through a network of all-weather highways, besides creating roads of strategic importance for faster movement of troops and military equipment to the border with China.\"\"\"\n",
        "\n",
        "len(article)"
      ],
      "metadata": {
        "colab": {
          "base_uri": "https://localhost:8080/"
        },
        "id": "dIQdkY_KgxVj",
        "outputId": "766b278b-8627-4a63-cfd9-9ed3b773cbf1"
      },
      "execution_count": 14,
      "outputs": [
        {
          "output_type": "execute_result",
          "data": {
            "text/plain": [
              "4445"
            ]
          },
          "metadata": {},
          "execution_count": 14
        }
      ]
    },
    {
      "cell_type": "code",
      "source": [
        "fact_extraction_prompt = PromptTemplate(\n",
        "    input_variables=['text_input'],\n",
        "    template=\"Extract the key facts out of this article. Don't include opinion. Give each fact a number and keep them short: \\n\\n {text_input}\"\n",
        ")"
      ],
      "metadata": {
        "id": "0Ktjoi1Z7G_v"
      },
      "execution_count": 15,
      "outputs": []
    },
    {
      "cell_type": "code",
      "source": [
        "chain_fact_extraction = LLMChain(\n",
        "    llm = llm,\n",
        "    prompt = fact_extraction_prompt,\n",
        "\n",
        ")\n",
        "\n",
        "facts = chain_fact_extraction.run(article)\n",
        "print(facts)"
      ],
      "metadata": {
        "colab": {
          "base_uri": "https://localhost:8080/"
        },
        "id": "DC3yvFRyGIxN",
        "outputId": "885a61d4-335a-473d-fc75-07250cc75b4e"
      },
      "execution_count": 17,
      "outputs": [
        {
          "output_type": "stream",
          "name": "stdout",
          "text": [
            "\n",
            "\n",
            "Facts: \n",
            "1. 40 workers have been trapped since November 12 in a collapsed portion of an under-construction tunnel on the Char Dham highway project in Uttarakhand. \n",
            "2. Boring machines from Dehradun and a team of eight experts are at the site. \n",
            "3. The Rs 853-crore tunnel is part of the contentious Char Dham all-weather road project. \n",
            "4. Special machines have been deployed to bore a pipe into the dense rubble so that the trapped workers can be evacuated through it. \n",
            "5. The trapped workers have ample space inside to move around and have been provided food. \n",
            "6. Electricity and contact has been established with the workers through walkie-talkie. \n",
            "7. The NHIDCL contractor Navyug Engineering Company had begun constructing the tunnel in July 2018 with a target to complete it by July 2022. \n",
            "8. Locals and environmentalists have been protesting against the massive construction exercise. \n",
            "9. The 850-km Char Dham project seeks to connect the four Hindu shrines of Gangotri, Yamunotri, Kedarnath and Badrinath through a network of all-weather highways.\n"
          ]
        }
      ]
    },
    {
      "cell_type": "code",
      "source": [],
      "metadata": {
        "id": "45u1adbEGiPo"
      },
      "execution_count": null,
      "outputs": []
    },
    {
      "cell_type": "markdown",
      "source": [
        "# Rewriteas a Summary from the facts"
      ],
      "metadata": {
        "id": "3OG-GH0nHI8c"
      }
    },
    {
      "cell_type": "code",
      "source": [
        "summary_prompt = PromptTemplate(\n",
        "    input_variables=['facts'],\n",
        "    template = \"\"\"Your task is to utilize following list of facts to a short paragraph. Make sure you're not missing any facts.\n",
        "    Facts: {facts}\"\"\"\n",
        ")"
      ],
      "metadata": {
        "id": "6GMPBT6UHPxe"
      },
      "execution_count": 18,
      "outputs": []
    },
    {
      "cell_type": "code",
      "source": [
        "summary_chain = LLMChain(\n",
        "    llm = llm,\n",
        "    prompt = summary_prompt\n",
        ")\n",
        "\n",
        "summary = summary_chain.run(facts)\n",
        "print(summary)"
      ],
      "metadata": {
        "colab": {
          "base_uri": "https://localhost:8080/"
        },
        "id": "Wqj3IMRyIhV0",
        "outputId": "1572da10-749a-4ee4-e9e2-835c7ee00863"
      },
      "execution_count": 19,
      "outputs": [
        {
          "output_type": "stream",
          "name": "stdout",
          "text": [
            "\n",
            "\n",
            "Since November 12, 40 workers have been trapped in a collapsed portion of an under-construction tunnel on the Char Dham highway project in Uttarakhand. Boring machines from Dehradun and a team of eight experts have been deployed to the site to bore a pipe into the dense rubble so that the trapped workers can be evacuated. The Rs 853-crore tunnel is part of the contentious Char Dham all-weather road project, which seeks to connect the four Hindu shrines of Gangotri, Yamunotri, Kedarnath and Badrinath through a network of all-weather highways. The trapped workers have ample space inside to move around and have been provided food, and electricity and contact has been established with the workers through walkie-talkie. Locals and environmentalists have been protesting against the massive construction exercise, which was begun by the NHIDCL contractor Navyug Engineering Company in July 2018 with a target to complete it by July 2022.\n"
          ]
        }
      ]
    },
    {
      "cell_type": "code",
      "source": [],
      "metadata": {
        "id": "lFZh3JcZI75Q"
      },
      "execution_count": 20,
      "outputs": []
    },
    {
      "cell_type": "markdown",
      "source": [
        "# Using facts to create triples"
      ],
      "metadata": {
        "id": "tpI3-tkkLDM5"
      }
    },
    {
      "cell_type": "code",
      "source": [
        "triples_prompt = PromptTemplate(\n",
        "    input_variables=['facts'],\n",
        "    template = \"Take the following list of facts and turn it into triples for a knowledge graph. \\n\\n {facts}\"\n",
        ")"
      ],
      "metadata": {
        "id": "hY-aUeEdJxEj"
      },
      "execution_count": 21,
      "outputs": []
    },
    {
      "cell_type": "code",
      "source": [
        "triples_chain = LLMChain(\n",
        "    llm = llm,\n",
        "    prompt = triples_prompt\n",
        ")\n",
        "\n",
        "triples = triples_chain.run(facts)\n",
        "print(triples)\n",
        "print(len(triples))"
      ],
      "metadata": {
        "colab": {
          "base_uri": "https://localhost:8080/"
        },
        "id": "MhWwic3_KVHR",
        "outputId": "93a3ed6e-ebb3-4024-fa3f-aa719acaeb62"
      },
      "execution_count": 22,
      "outputs": [
        {
          "output_type": "stream",
          "name": "stdout",
          "text": [
            "\n",
            "\n",
            "Triples: \n",
            "1. (Char Dham Highway Project, located in, Uttarakhand) \n",
            "2. (Char Dham Highway Project, has tunnel, collapsed portion) \n",
            "3. (Char Dham Highway Project, has contractor, Navyug Engineering Company) \n",
            "4. (Char Dham Highway Project, has target completion date, July 2022) \n",
            "5. (Collapsed portion, has trapped workers, 40) \n",
            "6. (Collapsed portion, has experts, 8) \n",
            "7. (Collapsed portion, has machines, boring machines from Dehradun) \n",
            "8. (Collapsed portion, has evacuation method, pipe) \n",
            "9. (Collapsed portion, has food, yes) \n",
            "10. (Collapsed portion, has electricity, yes) \n",
            "11. (Collapsed portion, has communication, walkie-talkie) \n",
            "12. (Char Dham Project, connects, four Hindu shrines) \n",
            "13. (Char Dham Project, has protesters, locals and environmentalists)\n",
            "759\n"
          ]
        }
      ]
    },
    {
      "cell_type": "code",
      "source": [],
      "metadata": {
        "id": "3CioraRsKzTe"
      },
      "execution_count": null,
      "outputs": []
    },
    {
      "cell_type": "markdown",
      "source": [
        "# Chains above chains together"
      ],
      "metadata": {
        "id": "Zj1HslVfLIma"
      }
    },
    {
      "cell_type": "code",
      "source": [
        "from langchain.chains import SequentialChain, SimpleSequentialChain\n",
        "\n",
        "chain = SimpleSequentialChain(\n",
        "    chains = [chain_fact_extraction, summary_chain, triples_chain],\n",
        "    verbose = True\n",
        ")"
      ],
      "metadata": {
        "id": "anU3tj0NLM0U"
      },
      "execution_count": 23,
      "outputs": []
    },
    {
      "cell_type": "code",
      "source": [
        "response = chain.run(article)\n",
        "print(response)"
      ],
      "metadata": {
        "colab": {
          "base_uri": "https://localhost:8080/"
        },
        "id": "OI6lOTthLySP",
        "outputId": "ceffce37-d6e9-45cf-c69a-8131ef59b88f"
      },
      "execution_count": 24,
      "outputs": [
        {
          "output_type": "stream",
          "name": "stdout",
          "text": [
            "\n",
            "\n",
            "\u001b[1m> Entering new SimpleSequentialChain chain...\u001b[0m\n",
            "\u001b[36;1m\u001b[1;3m\n",
            "\n",
            "Facts: \n",
            "1. 40 workers have been trapped since November 12 in a collapsed portion of an under-construction tunnel on the Char Dham highway project in Uttarakhand. \n",
            "2. Boring machines from Dehradun and a team of eight experts are at the site. \n",
            "3. The Rs 853-crore tunnel is part of the contentious Char Dham all-weather road project. \n",
            "4. A 100-metre stretch caved in at around 5.30 am on November 12 while workers were carrying out re-profiling work. \n",
            "5. Special machines have been deployed to bore a pipe into the dense rubble so that the trapped workers can be evacuated through it. \n",
            "6. The trapped workers have ample space inside to move around and have been provided food. \n",
            "7. There is electricity and contact has been established with the workers through walkie-talkie. \n",
            "8. Mobilisation of men, material and machinery to push a 900-mm (35 inches) diameter steel pipe with the help of hydraulic jack for evacuation of workers is in process. \n",
            "9. Experts from RVNL, RITES, SDRF, NDRF and other senior officials have\u001b[0m\n",
            "\u001b[33;1m\u001b[1;3m been camping at the site since the incident.\n",
            "\n",
            "Since November 12, 40 workers have been trapped in a collapsed portion of an under-construction tunnel on the Char Dham highway project in Uttarakhand. Boring machines from Dehradun and a team of eight experts have been deployed to the site to bore a pipe into the dense rubble so that the trapped workers can be evacuated. The Rs 853-crore tunnel is part of the contentious Char Dham all-weather road project and the trapped workers have ample space inside to move around and have been provided food, electricity, and contact has been established with the workers through walkie-talkie. Mobilisation of men, material and machinery to push a 900-mm (35 inches) diameter steel pipe with the help of hydraulic jack for evacuation of workers is in process and experts from RVNL, RITES, SDRF, NDRF and other senior officials have been camping at the site since the incident.\u001b[0m\n",
            "\u001b[38;5;200m\u001b[1;3m\n",
            "\n",
            "Triples: \n",
            "(Char Dham Highway Project, located in, Uttarakhand)\n",
            "(Char Dham Highway Project, incident date, November 12)\n",
            "(Char Dham Highway Project, number of workers trapped, 40)\n",
            "(Char Dham Highway Project, cost, Rs 853-crore)\n",
            "(Char Dham Highway Project, type of project, all-weather road project)\n",
            "(Char Dham Highway Project, trapped workers, ample space to move around)\n",
            "(Char Dham Highway Project, trapped workers, provided food and electricity)\n",
            "(Char Dham Highway Project, contact with workers, established through walkie-talkie)\n",
            "(Char Dham Highway Project, evacuation process, pushing a 900-mm diameter steel pipe with the help of hydraulic jack)\n",
            "(Char Dham Highway Project, experts deployed, Dehradun and a team of eight)\n",
            "(Char Dham Highway Project, experts camping at the site, RVNL, RITES, SDRF, NDRF and other senior officials)\u001b[0m\n",
            "\n",
            "\u001b[1m> Finished chain.\u001b[0m\n",
            "\n",
            "\n",
            "Triples: \n",
            "(Char Dham Highway Project, located in, Uttarakhand)\n",
            "(Char Dham Highway Project, incident date, November 12)\n",
            "(Char Dham Highway Project, number of workers trapped, 40)\n",
            "(Char Dham Highway Project, cost, Rs 853-crore)\n",
            "(Char Dham Highway Project, type of project, all-weather road project)\n",
            "(Char Dham Highway Project, trapped workers, ample space to move around)\n",
            "(Char Dham Highway Project, trapped workers, provided food and electricity)\n",
            "(Char Dham Highway Project, contact with workers, established through walkie-talkie)\n",
            "(Char Dham Highway Project, evacuation process, pushing a 900-mm diameter steel pipe with the help of hydraulic jack)\n",
            "(Char Dham Highway Project, experts deployed, Dehradun and a team of eight)\n",
            "(Char Dham Highway Project, experts camping at the site, RVNL, RITES, SDRF, NDRF and other senior officials)\n"
          ]
        }
      ]
    },
    {
      "cell_type": "code",
      "source": [],
      "metadata": {
        "id": "iLOCddBjL6aw"
      },
      "execution_count": null,
      "outputs": []
    },
    {
      "cell_type": "code",
      "source": [],
      "metadata": {
        "id": "2r_21mVzMQ8s"
      },
      "execution_count": null,
      "outputs": []
    },
    {
      "cell_type": "code",
      "source": [],
      "metadata": {
        "id": "5Ta8C_RyMQ5c"
      },
      "execution_count": null,
      "outputs": []
    },
    {
      "cell_type": "markdown",
      "source": [
        "# Program-Aided Language (PAL) Model - Math chain\n",
        "uses LLMs to read natural language problems and generate programs as reasoning steps"
      ],
      "metadata": {
        "id": "tcOnHe55MRpH"
      }
    },
    {
      "cell_type": "code",
      "source": [
        "!pip install langchain_experimental"
      ],
      "metadata": {
        "id": "zMdjm-8ZPQUT"
      },
      "execution_count": null,
      "outputs": []
    },
    {
      "cell_type": "code",
      "source": [
        "from langchain_experimental.pal_chain.math_prompt import MATH_PROMPT"
      ],
      "metadata": {
        "id": "GovpBaQQPNJe"
      },
      "execution_count": 32,
      "outputs": []
    },
    {
      "cell_type": "code",
      "source": [
        "from langchain_experimental.pal_chain.base import PALChain\n",
        "\n",
        "pal_chain = PALChain.from_math_prompt(llm, verbose = True)"
      ],
      "metadata": {
        "id": "U6Mpn5foM1tS"
      },
      "execution_count": 34,
      "outputs": []
    },
    {
      "cell_type": "code",
      "source": [
        "question_1 = \"How much time will it take for Raghav to reach the top of the 100-foot iron rod if he climbs 10 feet during the day but descends by 5 feet at night?\"\n",
        "question_2 = \"Jill has 4 apple, 3 mango and 6 orange. The cost of one mango is twice of orange and 1.5 time of apple. The cost of each mango is 60. How many apples will Jill be having if he exchanged all of this orange and mangoes to buy apples?\""
      ],
      "metadata": {
        "id": "xlUfcLw2OLYA"
      },
      "execution_count": 42,
      "outputs": []
    },
    {
      "cell_type": "code",
      "source": [
        "pal_chain.run(question_1)"
      ],
      "metadata": {
        "colab": {
          "base_uri": "https://localhost:8080/",
          "height": 309
        },
        "id": "QOpDYftBQcYZ",
        "outputId": "145190a8-e8fb-4631-be29-399c3d9901f3"
      },
      "execution_count": 38,
      "outputs": [
        {
          "output_type": "stream",
          "name": "stdout",
          "text": [
            "\n",
            "\n",
            "\u001b[1m> Entering new PALChain chain...\u001b[0m\n"
          ]
        },
        {
          "output_type": "stream",
          "name": "stderr",
          "text": [
            "WARNING:langchain.utilities.python:Python REPL can execute arbitrary code. Use with caution.\n"
          ]
        },
        {
          "output_type": "stream",
          "name": "stdout",
          "text": [
            "\u001b[32;1m\u001b[1;3mdef solution():\n",
            "    \"\"\"How much time will it take for Raghav to reach the top of the 100-foot iron rod if he climbs 10 feet during the day but descends by 5 feet at night?\"\"\"\n",
            "    rod_height = 100\n",
            "    climb_rate = 10\n",
            "    descent_rate = 5\n",
            "    total_distance = rod_height\n",
            "    total_time = total_distance / (climb_rate - descent_rate)\n",
            "    result = total_time\n",
            "    return result\u001b[0m\n",
            "\n",
            "\u001b[1m> Finished chain.\u001b[0m\n"
          ]
        },
        {
          "output_type": "execute_result",
          "data": {
            "text/plain": [
              "'20.0'"
            ],
            "application/vnd.google.colaboratory.intrinsic+json": {
              "type": "string"
            }
          },
          "metadata": {},
          "execution_count": 38
        }
      ]
    },
    {
      "cell_type": "code",
      "source": [
        "pal_chain.run(question_2)"
      ],
      "metadata": {
        "colab": {
          "base_uri": "https://localhost:8080/",
          "height": 384
        },
        "id": "IRjQEZjhSBUF",
        "outputId": "f1d2c3e1-32c1-456b-b63b-9ebd0e985db3"
      },
      "execution_count": 49,
      "outputs": [
        {
          "output_type": "stream",
          "name": "stdout",
          "text": [
            "\n",
            "\n",
            "\u001b[1m> Entering new PALChain chain...\u001b[0m\n",
            "\u001b[32;1m\u001b[1;3mdef solution():\n",
            "    \"\"\"Jill has 4 apple, 3 mango and 6 orange. The cost of one mango is twice of orange and 1.5 time of apple. The cost of each mango is 60. How many apples will Jill be having if he exchanged all of this orange and mangoes to buy apples?\"\"\"\n",
            "    apples_initial = 4\n",
            "    mangoes = 3\n",
            "    oranges = 6\n",
            "    mango_cost = 60\n",
            "    orange_cost = mango_cost / 2\n",
            "    apple_cost = mango_cost / 1.5\n",
            "    total_cost = (mangoes * mango_cost) + (oranges * orange_cost)\n",
            "    apples_bought = total_cost / apple_cost\n",
            "    apples_total = apples_initial + apples_bought\n",
            "    result = apples_total\n",
            "    return result\u001b[0m\n",
            "\n",
            "\u001b[1m> Finished chain.\u001b[0m\n"
          ]
        },
        {
          "output_type": "execute_result",
          "data": {
            "text/plain": [
              "'13.0'"
            ],
            "application/vnd.google.colaboratory.intrinsic+json": {
              "type": "string"
            }
          },
          "metadata": {},
          "execution_count": 49
        }
      ]
    },
    {
      "cell_type": "code",
      "source": [],
      "metadata": {
        "id": "vPCPj0_sUcKC"
      },
      "execution_count": null,
      "outputs": []
    },
    {
      "cell_type": "markdown",
      "source": [
        "# API Chains - OpenMeteo - Weather Information"
      ],
      "metadata": {
        "id": "0vVsI-_pUyWz"
      }
    },
    {
      "cell_type": "code",
      "source": [
        "from langchain.chains.api.prompt import API_RESPONSE_PROMPT\n",
        "from langchain.chains import APIChain"
      ],
      "metadata": {
        "id": "QsxDf1QHU46x"
      },
      "execution_count": 50,
      "outputs": []
    },
    {
      "cell_type": "code",
      "source": [
        "from langchain.chains.api import open_meteo_docs\n",
        "weather_chain = APIChain.from_llm_and_api_docs(\n",
        "    llm,\n",
        "    open_meteo_docs.OPEN_METEO_DOCS,\n",
        "    verbose = True,\n",
        "    limit_to_domains = None\n",
        ")"
      ],
      "metadata": {
        "id": "LXZYIpbyVKRC"
      },
      "execution_count": 56,
      "outputs": []
    },
    {
      "cell_type": "code",
      "source": [
        "weather_chain.run(\"What is the temperature in the Mumbai.\")"
      ],
      "metadata": {
        "colab": {
          "base_uri": "https://localhost:8080/",
          "height": 184
        },
        "id": "YuTGjjYwVrTQ",
        "outputId": "766c0deb-a58f-4f94-de3a-6acaa0e07a33"
      },
      "execution_count": 61,
      "outputs": [
        {
          "output_type": "stream",
          "name": "stdout",
          "text": [
            "\n",
            "\n",
            "\u001b[1m> Entering new APIChain chain...\u001b[0m\n",
            "\u001b[32;1m\u001b[1;3mhttps://api.open-meteo.com/v1/forecast?latitude=19.0760&longitude=72.8777&hourly=temperature_2m&temperature_unit=celsius\u001b[0m\n",
            "\u001b[33;1m\u001b[1;3m{\"latitude\":19.125,\"longitude\":72.875,\"generationtime_ms\":0.016927719116210938,\"utc_offset_seconds\":0,\"timezone\":\"GMT\",\"timezone_abbreviation\":\"GMT\",\"elevation\":6.0,\"hourly_units\":{\"time\":\"iso8601\",\"temperature_2m\":\"°C\"},\"hourly\":{\"time\":[\"2023-11-14T00:00\",\"2023-11-14T01:00\",\"2023-11-14T02:00\",\"2023-11-14T03:00\",\"2023-11-14T04:00\",\"2023-11-14T05:00\",\"2023-11-14T06:00\",\"2023-11-14T07:00\",\"2023-11-14T08:00\",\"2023-11-14T09:00\",\"2023-11-14T10:00\",\"2023-11-14T11:00\",\"2023-11-14T12:00\",\"2023-11-14T13:00\",\"2023-11-14T14:00\",\"2023-11-14T15:00\",\"2023-11-14T16:00\",\"2023-11-14T17:00\",\"2023-11-14T18:00\",\"2023-11-14T19:00\",\"2023-11-14T20:00\",\"2023-11-14T21:00\",\"2023-11-14T22:00\",\"2023-11-14T23:00\",\"2023-11-15T00:00\",\"2023-11-15T01:00\",\"2023-11-15T02:00\",\"2023-11-15T03:00\",\"2023-11-15T04:00\",\"2023-11-15T05:00\",\"2023-11-15T06:00\",\"2023-11-15T07:00\",\"2023-11-15T08:00\",\"2023-11-15T09:00\",\"2023-11-15T10:00\",\"2023-11-15T11:00\",\"2023-11-15T12:00\",\"2023-11-15T13:00\",\"2023-11-15T14:00\",\"2023-11-15T15:00\",\"2023-11-15T16:00\",\"2023-11-15T17:00\",\"2023-11-15T18:00\",\"2023-11-15T19:00\",\"2023-11-15T20:00\",\"2023-11-15T21:00\",\"2023-11-15T22:00\",\"2023-11-15T23:00\",\"2023-11-16T00:00\",\"2023-11-16T01:00\",\"2023-11-16T02:00\",\"2023-11-16T03:00\",\"2023-11-16T04:00\",\"2023-11-16T05:00\",\"2023-11-16T06:00\",\"2023-11-16T07:00\",\"2023-11-16T08:00\",\"2023-11-16T09:00\",\"2023-11-16T10:00\",\"2023-11-16T11:00\",\"2023-11-16T12:00\",\"2023-11-16T13:00\",\"2023-11-16T14:00\",\"2023-11-16T15:00\",\"2023-11-16T16:00\",\"2023-11-16T17:00\",\"2023-11-16T18:00\",\"2023-11-16T19:00\",\"2023-11-16T20:00\",\"2023-11-16T21:00\",\"2023-11-16T22:00\",\"2023-11-16T23:00\",\"2023-11-17T00:00\",\"2023-11-17T01:00\",\"2023-11-17T02:00\",\"2023-11-17T03:00\",\"2023-11-17T04:00\",\"2023-11-17T05:00\",\"2023-11-17T06:00\",\"2023-11-17T07:00\",\"2023-11-17T08:00\",\"2023-11-17T09:00\",\"2023-11-17T10:00\",\"2023-11-17T11:00\",\"2023-11-17T12:00\",\"2023-11-17T13:00\",\"2023-11-17T14:00\",\"2023-11-17T15:00\",\"2023-11-17T16:00\",\"2023-11-17T17:00\",\"2023-11-17T18:00\",\"2023-11-17T19:00\",\"2023-11-17T20:00\",\"2023-11-17T21:00\",\"2023-11-17T22:00\",\"2023-11-17T23:00\",\"2023-11-18T00:00\",\"2023-11-18T01:00\",\"2023-11-18T02:00\",\"2023-11-18T03:00\",\"2023-11-18T04:00\",\"2023-11-18T05:00\",\"2023-11-18T06:00\",\"2023-11-18T07:00\",\"2023-11-18T08:00\",\"2023-11-18T09:00\",\"2023-11-18T10:00\",\"2023-11-18T11:00\",\"2023-11-18T12:00\",\"2023-11-18T13:00\",\"2023-11-18T14:00\",\"2023-11-18T15:00\",\"2023-11-18T16:00\",\"2023-11-18T17:00\",\"2023-11-18T18:00\",\"2023-11-18T19:00\",\"2023-11-18T20:00\",\"2023-11-18T21:00\",\"2023-11-18T22:00\",\"2023-11-18T23:00\",\"2023-11-19T00:00\",\"2023-11-19T01:00\",\"2023-11-19T02:00\",\"2023-11-19T03:00\",\"2023-11-19T04:00\",\"2023-11-19T05:00\",\"2023-11-19T06:00\",\"2023-11-19T07:00\",\"2023-11-19T08:00\",\"2023-11-19T09:00\",\"2023-11-19T10:00\",\"2023-11-19T11:00\",\"2023-11-19T12:00\",\"2023-11-19T13:00\",\"2023-11-19T14:00\",\"2023-11-19T15:00\",\"2023-11-19T16:00\",\"2023-11-19T17:00\",\"2023-11-19T18:00\",\"2023-11-19T19:00\",\"2023-11-19T20:00\",\"2023-11-19T21:00\",\"2023-11-19T22:00\",\"2023-11-19T23:00\",\"2023-11-20T00:00\",\"2023-11-20T01:00\",\"2023-11-20T02:00\",\"2023-11-20T03:00\",\"2023-11-20T04:00\",\"2023-11-20T05:00\",\"2023-11-20T06:00\",\"2023-11-20T07:00\",\"2023-11-20T08:00\",\"2023-11-20T09:00\",\"2023-11-20T10:00\",\"2023-11-20T11:00\",\"2023-11-20T12:00\",\"2023-11-20T13:00\",\"2023-11-20T14:00\",\"2023-11-20T15:00\",\"2023-11-20T16:00\",\"2023-11-20T17:00\",\"2023-11-20T18:00\",\"2023-11-20T19:00\",\"2023-11-20T20:00\",\"2023-11-20T21:00\",\"2023-11-20T22:00\",\"2023-11-20T23:00\"],\"temperature_2m\":[24.1,23.7,23.9,26.2,28.9,31.4,33.1,34.3,34.5,33.3,32.0,31.2,30.7,29.4,28.5,27.6,26.9,26.3,25.8,25.3,24.7,24.4,24.3,23.9,23.6,23.2,23.2,25.6,28.1,30.5,32.8,34.4,35.2,34.5,32.5,31.5,30.4,29.1,28.0,27.1,26.7,26.6,26.5,25.8,25.1,24.3,23.8,23.7,23.8,23.4,23.2,25.7,28.4,31.1,33.2,34.7,35.2,34.8,33.1,31.6,30.4,29.1,28.0,27.2,26.7,26.4,26.0,25.6,25.0,24.5,24.0,23.4,22.9,22.6,22.6,25.3,28.1,30.7,32.9,34.3,34.9,34.6,32.8,31.5,30.4,29.2,28.1,27.3,26.9,26.6,26.1,25.3,24.4,23.6,23.1,22.8,22.9,23.2,23.9,25.2,27.6,30.5,32.8,34.1,34.8,34.8,33.6,31.7,30.1,29.0,28.2,27.5,26.9,26.5,26.0,25.4,24.6,24.0,23.4,22.9,22.9,23.2,24.0,25.4,27.8,30.8,33.2,34.4,35.1,35.0,33.9,32.1,30.6,29.5,28.7,28.1,27.7,27.5,27.3,26.9,26.4,25.9,25.2,24.6,24.3,24.5,25.0,26.2,28.6,31.6,33.8,34.4,34.3,33.8,33.0,31.8,30.7,29.8,28.9,28.1,27.4,26.8,26.3,25.9,25.5,25.3,25.2,25.3]}}\u001b[0m\n",
            "\n",
            "\u001b[1m> Finished chain.\u001b[0m\n"
          ]
        },
        {
          "output_type": "execute_result",
          "data": {
            "text/plain": [
              "' The temperature in Mumbai is expected to range from 24.1°C to 35.2°C over the next 7 days.'"
            ],
            "application/vnd.google.colaboratory.intrinsic+json": {
              "type": "string"
            }
          },
          "metadata": {},
          "execution_count": 61
        }
      ]
    },
    {
      "cell_type": "code",
      "source": [
        "weather_chain.run('What is the temperature like right now in Bedok, Singapore in degrees Celcius?')"
      ],
      "metadata": {
        "colab": {
          "base_uri": "https://localhost:8080/",
          "height": 184
        },
        "id": "NsEBCSsHXAh6",
        "outputId": "acd1f2dd-a9c4-4978-ab6d-4173b487b48c"
      },
      "execution_count": 62,
      "outputs": [
        {
          "output_type": "stream",
          "name": "stdout",
          "text": [
            "\n",
            "\n",
            "\u001b[1m> Entering new APIChain chain...\u001b[0m\n",
            "\u001b[32;1m\u001b[1;3mhttps://api.open-meteo.com/v1/forecast?latitude=1.3&longitude=103.9&hourly=temperature_2m&current_weather=true&temperature_unit=celsius\u001b[0m\n",
            "\u001b[33;1m\u001b[1;3m{\"latitude\":1.375,\"longitude\":103.875,\"generationtime_ms\":0.08606910705566406,\"utc_offset_seconds\":0,\"timezone\":\"GMT\",\"timezone_abbreviation\":\"GMT\",\"elevation\":6.0,\"current_weather_units\":{\"time\":\"iso8601\",\"interval\":\"seconds\",\"temperature\":\"°C\",\"windspeed\":\"km/h\",\"winddirection\":\"°\",\"is_day\":\"\",\"weathercode\":\"wmo code\"},\"current_weather\":{\"time\":\"2023-11-14T19:45\",\"interval\":900,\"temperature\":25.9,\"windspeed\":7.1,\"winddirection\":285,\"is_day\":0,\"weathercode\":3},\"hourly_units\":{\"time\":\"iso8601\",\"temperature_2m\":\"°C\"},\"hourly\":{\"time\":[\"2023-11-14T00:00\",\"2023-11-14T01:00\",\"2023-11-14T02:00\",\"2023-11-14T03:00\",\"2023-11-14T04:00\",\"2023-11-14T05:00\",\"2023-11-14T06:00\",\"2023-11-14T07:00\",\"2023-11-14T08:00\",\"2023-11-14T09:00\",\"2023-11-14T10:00\",\"2023-11-14T11:00\",\"2023-11-14T12:00\",\"2023-11-14T13:00\",\"2023-11-14T14:00\",\"2023-11-14T15:00\",\"2023-11-14T16:00\",\"2023-11-14T17:00\",\"2023-11-14T18:00\",\"2023-11-14T19:00\",\"2023-11-14T20:00\",\"2023-11-14T21:00\",\"2023-11-14T22:00\",\"2023-11-14T23:00\",\"2023-11-15T00:00\",\"2023-11-15T01:00\",\"2023-11-15T02:00\",\"2023-11-15T03:00\",\"2023-11-15T04:00\",\"2023-11-15T05:00\",\"2023-11-15T06:00\",\"2023-11-15T07:00\",\"2023-11-15T08:00\",\"2023-11-15T09:00\",\"2023-11-15T10:00\",\"2023-11-15T11:00\",\"2023-11-15T12:00\",\"2023-11-15T13:00\",\"2023-11-15T14:00\",\"2023-11-15T15:00\",\"2023-11-15T16:00\",\"2023-11-15T17:00\",\"2023-11-15T18:00\",\"2023-11-15T19:00\",\"2023-11-15T20:00\",\"2023-11-15T21:00\",\"2023-11-15T22:00\",\"2023-11-15T23:00\",\"2023-11-16T00:00\",\"2023-11-16T01:00\",\"2023-11-16T02:00\",\"2023-11-16T03:00\",\"2023-11-16T04:00\",\"2023-11-16T05:00\",\"2023-11-16T06:00\",\"2023-11-16T07:00\",\"2023-11-16T08:00\",\"2023-11-16T09:00\",\"2023-11-16T10:00\",\"2023-11-16T11:00\",\"2023-11-16T12:00\",\"2023-11-16T13:00\",\"2023-11-16T14:00\",\"2023-11-16T15:00\",\"2023-11-16T16:00\",\"2023-11-16T17:00\",\"2023-11-16T18:00\",\"2023-11-16T19:00\",\"2023-11-16T20:00\",\"2023-11-16T21:00\",\"2023-11-16T22:00\",\"2023-11-16T23:00\",\"2023-11-17T00:00\",\"2023-11-17T01:00\",\"2023-11-17T02:00\",\"2023-11-17T03:00\",\"2023-11-17T04:00\",\"2023-11-17T05:00\",\"2023-11-17T06:00\",\"2023-11-17T07:00\",\"2023-11-17T08:00\",\"2023-11-17T09:00\",\"2023-11-17T10:00\",\"2023-11-17T11:00\",\"2023-11-17T12:00\",\"2023-11-17T13:00\",\"2023-11-17T14:00\",\"2023-11-17T15:00\",\"2023-11-17T16:00\",\"2023-11-17T17:00\",\"2023-11-17T18:00\",\"2023-11-17T19:00\",\"2023-11-17T20:00\",\"2023-11-17T21:00\",\"2023-11-17T22:00\",\"2023-11-17T23:00\",\"2023-11-18T00:00\",\"2023-11-18T01:00\",\"2023-11-18T02:00\",\"2023-11-18T03:00\",\"2023-11-18T04:00\",\"2023-11-18T05:00\",\"2023-11-18T06:00\",\"2023-11-18T07:00\",\"2023-11-18T08:00\",\"2023-11-18T09:00\",\"2023-11-18T10:00\",\"2023-11-18T11:00\",\"2023-11-18T12:00\",\"2023-11-18T13:00\",\"2023-11-18T14:00\",\"2023-11-18T15:00\",\"2023-11-18T16:00\",\"2023-11-18T17:00\",\"2023-11-18T18:00\",\"2023-11-18T19:00\",\"2023-11-18T20:00\",\"2023-11-18T21:00\",\"2023-11-18T22:00\",\"2023-11-18T23:00\",\"2023-11-19T00:00\",\"2023-11-19T01:00\",\"2023-11-19T02:00\",\"2023-11-19T03:00\",\"2023-11-19T04:00\",\"2023-11-19T05:00\",\"2023-11-19T06:00\",\"2023-11-19T07:00\",\"2023-11-19T08:00\",\"2023-11-19T09:00\",\"2023-11-19T10:00\",\"2023-11-19T11:00\",\"2023-11-19T12:00\",\"2023-11-19T13:00\",\"2023-11-19T14:00\",\"2023-11-19T15:00\",\"2023-11-19T16:00\",\"2023-11-19T17:00\",\"2023-11-19T18:00\",\"2023-11-19T19:00\",\"2023-11-19T20:00\",\"2023-11-19T21:00\",\"2023-11-19T22:00\",\"2023-11-19T23:00\",\"2023-11-20T00:00\",\"2023-11-20T01:00\",\"2023-11-20T02:00\",\"2023-11-20T03:00\",\"2023-11-20T04:00\",\"2023-11-20T05:00\",\"2023-11-20T06:00\",\"2023-11-20T07:00\",\"2023-11-20T08:00\",\"2023-11-20T09:00\",\"2023-11-20T10:00\",\"2023-11-20T11:00\",\"2023-11-20T12:00\",\"2023-11-20T13:00\",\"2023-11-20T14:00\",\"2023-11-20T15:00\",\"2023-11-20T16:00\",\"2023-11-20T17:00\",\"2023-11-20T18:00\",\"2023-11-20T19:00\",\"2023-11-20T20:00\",\"2023-11-20T21:00\",\"2023-11-20T22:00\",\"2023-11-20T23:00\"],\"temperature_2m\":[27.1,27.7,28.7,29.5,30.3,29.9,29.4,28.6,28.1,27.7,27.5,27.2,27.1,27.0,26.8,26.6,26.5,26.3,26.1,26.0,25.9,25.8,25.7,25.7,26.3,27.6,28.9,29.9,30.8,31.4,30.9,30.0,30.2,30.1,29.6,28.4,27.7,27.4,27.2,27.1,27.0,26.8,26.7,26.6,26.5,26.4,26.3,26.3,26.7,27.5,28.8,29.8,30.3,30.1,30.0,30.0,30.0,30.0,29.9,29.7,29.2,28.7,28.3,28.0,27.6,27.1,26.9,26.7,26.6,26.6,26.6,26.6,27.3,28.5,29.2,30.0,30.9,31.0,30.3,30.3,30.2,30.1,29.5,28.8,28.4,27.8,27.5,27.3,27.0,26.6,26.2,26.0,26.0,26.1,26.1,26.2,26.6,27.6,28.9,30.0,30.7,31.3,31.5,31.1,30.3,29.6,29.0,28.5,28.1,27.8,27.5,27.3,27.2,27.0,26.9,26.7,26.5,26.4,26.3,26.4,26.7,27.5,28.6,29.5,30.1,30.4,30.5,30.2,29.5,28.9,28.5,28.1,27.8,27.5,27.3,27.1,26.9,26.7,26.6,26.4,26.3,26.2,26.2,26.2,26.5,27.0,27.8,28.5,29.3,30.0,30.4,30.3,29.8,29.2,28.6,28.0,27.5,27.2,27.1,26.9,26.8,26.6,26.5,26.3,26.2,26.1,26.0,26.0]}}\u001b[0m\n",
            "\n",
            "\u001b[1m> Finished chain.\u001b[0m\n"
          ]
        },
        {
          "output_type": "execute_result",
          "data": {
            "text/plain": [
              "' The temperature right now in Bedok, Singapore is 25.9°C.'"
            ],
            "application/vnd.google.colaboratory.intrinsic+json": {
              "type": "string"
            }
          },
          "metadata": {},
          "execution_count": 62
        }
      ]
    },
    {
      "cell_type": "code",
      "source": [
        "weather_chain.run(\"Is it cold in Varanasi?\")"
      ],
      "metadata": {
        "colab": {
          "base_uri": "https://localhost:8080/",
          "height": 184
        },
        "id": "UBMvt68KXmnV",
        "outputId": "2ebceee0-cf6f-4831-fcb0-36dc78bd82bf"
      },
      "execution_count": 63,
      "outputs": [
        {
          "output_type": "stream",
          "name": "stdout",
          "text": [
            "\n",
            "\n",
            "\u001b[1m> Entering new APIChain chain...\u001b[0m\n",
            "\u001b[32;1m\u001b[1;3mhttps://api.open-meteo.com/v1/forecast?latitude=25.3176&longitude=82.9739&hourly=temperature_2m&temperature_unit=celsius\u001b[0m\n",
            "\u001b[33;1m\u001b[1;3m{\"latitude\":25.375,\"longitude\":83.0,\"generationtime_ms\":0.0209808349609375,\"utc_offset_seconds\":0,\"timezone\":\"GMT\",\"timezone_abbreviation\":\"GMT\",\"elevation\":81.0,\"hourly_units\":{\"time\":\"iso8601\",\"temperature_2m\":\"°C\"},\"hourly\":{\"time\":[\"2023-11-14T00:00\",\"2023-11-14T01:00\",\"2023-11-14T02:00\",\"2023-11-14T03:00\",\"2023-11-14T04:00\",\"2023-11-14T05:00\",\"2023-11-14T06:00\",\"2023-11-14T07:00\",\"2023-11-14T08:00\",\"2023-11-14T09:00\",\"2023-11-14T10:00\",\"2023-11-14T11:00\",\"2023-11-14T12:00\",\"2023-11-14T13:00\",\"2023-11-14T14:00\",\"2023-11-14T15:00\",\"2023-11-14T16:00\",\"2023-11-14T17:00\",\"2023-11-14T18:00\",\"2023-11-14T19:00\",\"2023-11-14T20:00\",\"2023-11-14T21:00\",\"2023-11-14T22:00\",\"2023-11-14T23:00\",\"2023-11-15T00:00\",\"2023-11-15T01:00\",\"2023-11-15T02:00\",\"2023-11-15T03:00\",\"2023-11-15T04:00\",\"2023-11-15T05:00\",\"2023-11-15T06:00\",\"2023-11-15T07:00\",\"2023-11-15T08:00\",\"2023-11-15T09:00\",\"2023-11-15T10:00\",\"2023-11-15T11:00\",\"2023-11-15T12:00\",\"2023-11-15T13:00\",\"2023-11-15T14:00\",\"2023-11-15T15:00\",\"2023-11-15T16:00\",\"2023-11-15T17:00\",\"2023-11-15T18:00\",\"2023-11-15T19:00\",\"2023-11-15T20:00\",\"2023-11-15T21:00\",\"2023-11-15T22:00\",\"2023-11-15T23:00\",\"2023-11-16T00:00\",\"2023-11-16T01:00\",\"2023-11-16T02:00\",\"2023-11-16T03:00\",\"2023-11-16T04:00\",\"2023-11-16T05:00\",\"2023-11-16T06:00\",\"2023-11-16T07:00\",\"2023-11-16T08:00\",\"2023-11-16T09:00\",\"2023-11-16T10:00\",\"2023-11-16T11:00\",\"2023-11-16T12:00\",\"2023-11-16T13:00\",\"2023-11-16T14:00\",\"2023-11-16T15:00\",\"2023-11-16T16:00\",\"2023-11-16T17:00\",\"2023-11-16T18:00\",\"2023-11-16T19:00\",\"2023-11-16T20:00\",\"2023-11-16T21:00\",\"2023-11-16T22:00\",\"2023-11-16T23:00\",\"2023-11-17T00:00\",\"2023-11-17T01:00\",\"2023-11-17T02:00\",\"2023-11-17T03:00\",\"2023-11-17T04:00\",\"2023-11-17T05:00\",\"2023-11-17T06:00\",\"2023-11-17T07:00\",\"2023-11-17T08:00\",\"2023-11-17T09:00\",\"2023-11-17T10:00\",\"2023-11-17T11:00\",\"2023-11-17T12:00\",\"2023-11-17T13:00\",\"2023-11-17T14:00\",\"2023-11-17T15:00\",\"2023-11-17T16:00\",\"2023-11-17T17:00\",\"2023-11-17T18:00\",\"2023-11-17T19:00\",\"2023-11-17T20:00\",\"2023-11-17T21:00\",\"2023-11-17T22:00\",\"2023-11-17T23:00\",\"2023-11-18T00:00\",\"2023-11-18T01:00\",\"2023-11-18T02:00\",\"2023-11-18T03:00\",\"2023-11-18T04:00\",\"2023-11-18T05:00\",\"2023-11-18T06:00\",\"2023-11-18T07:00\",\"2023-11-18T08:00\",\"2023-11-18T09:00\",\"2023-11-18T10:00\",\"2023-11-18T11:00\",\"2023-11-18T12:00\",\"2023-11-18T13:00\",\"2023-11-18T14:00\",\"2023-11-18T15:00\",\"2023-11-18T16:00\",\"2023-11-18T17:00\",\"2023-11-18T18:00\",\"2023-11-18T19:00\",\"2023-11-18T20:00\",\"2023-11-18T21:00\",\"2023-11-18T22:00\",\"2023-11-18T23:00\",\"2023-11-19T00:00\",\"2023-11-19T01:00\",\"2023-11-19T02:00\",\"2023-11-19T03:00\",\"2023-11-19T04:00\",\"2023-11-19T05:00\",\"2023-11-19T06:00\",\"2023-11-19T07:00\",\"2023-11-19T08:00\",\"2023-11-19T09:00\",\"2023-11-19T10:00\",\"2023-11-19T11:00\",\"2023-11-19T12:00\",\"2023-11-19T13:00\",\"2023-11-19T14:00\",\"2023-11-19T15:00\",\"2023-11-19T16:00\",\"2023-11-19T17:00\",\"2023-11-19T18:00\",\"2023-11-19T19:00\",\"2023-11-19T20:00\",\"2023-11-19T21:00\",\"2023-11-19T22:00\",\"2023-11-19T23:00\",\"2023-11-20T00:00\",\"2023-11-20T01:00\",\"2023-11-20T02:00\",\"2023-11-20T03:00\",\"2023-11-20T04:00\",\"2023-11-20T05:00\",\"2023-11-20T06:00\",\"2023-11-20T07:00\",\"2023-11-20T08:00\",\"2023-11-20T09:00\",\"2023-11-20T10:00\",\"2023-11-20T11:00\",\"2023-11-20T12:00\",\"2023-11-20T13:00\",\"2023-11-20T14:00\",\"2023-11-20T15:00\",\"2023-11-20T16:00\",\"2023-11-20T17:00\",\"2023-11-20T18:00\",\"2023-11-20T19:00\",\"2023-11-20T20:00\",\"2023-11-20T21:00\",\"2023-11-20T22:00\",\"2023-11-20T23:00\"],\"temperature_2m\":[16.6,16.3,18.2,22.1,24.8,26.7,27.4,28.2,28.9,28.7,28.1,27.0,24.9,23.5,22.6,22.2,21.8,21.0,20.2,19.4,18.0,17.7,17.5,17.1,16.4,15.9,17.6,21.8,24.8,26.9,28.2,28.9,29.0,28.8,28.3,27.0,24.9,23.4,22.2,21.0,20.2,19.9,19.4,18.3,17.6,17.1,16.8,16.6,16.5,16.2,18.0,21.8,25.0,27.0,28.1,28.6,28.8,28.6,28.0,27.0,24.4,23.1,22.2,21.6,21.1,20.5,20.0,19.5,18.8,18.1,17.6,17.2,16.9,16.0,18.0,21.6,24.5,26.1,27.7,29.0,29.6,29.6,29.0,28.1,26.0,24.1,23.0,22.4,21.9,21.2,20.8,20.5,20.3,20.1,19.8,19.5,19.6,20.5,21.9,23.4,25.0,26.9,28.3,29.3,29.9,29.9,28.9,27.2,25.7,24.5,23.2,22.3,21.6,21.1,20.8,20.4,20.0,19.6,19.1,18.6,18.8,19.8,21.3,23.0,25.1,27.3,29.0,30.0,30.4,30.2,29.0,27.2,25.5,24.1,22.9,21.9,21.2,20.8,20.4,19.9,19.5,19.1,18.6,18.1,18.3,19.4,21.1,23.0,25.1,27.5,29.1,30.1,30.5,30.3,29.3,27.7,26.2,25.0,23.8,22.8,22.2,22.0,21.8,21.5,21.3,21.0,20.6,20.2]}}\u001b[0m\n",
            "\n",
            "\u001b[1m> Finished chain.\u001b[0m\n"
          ]
        },
        {
          "output_type": "execute_result",
          "data": {
            "text/plain": [
              "' The temperature in Varanasi is expected to be around 16-30°C over the next 7 days.'"
            ],
            "application/vnd.google.colaboratory.intrinsic+json": {
              "type": "string"
            }
          },
          "metadata": {},
          "execution_count": 63
        }
      ]
    },
    {
      "cell_type": "code",
      "source": [],
      "metadata": {
        "id": "FaHvbhneXxFc"
      },
      "execution_count": null,
      "outputs": []
    }
  ]
}