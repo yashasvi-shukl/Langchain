{
  "nbformat": 4,
  "nbformat_minor": 0,
  "metadata": {
    "colab": {
      "provenance": []
    },
    "kernelspec": {
      "name": "python3",
      "display_name": "Python 3"
    },
    "language_info": {
      "name": "python"
    }
  },
  "cells": [
    {
      "cell_type": "code",
      "execution_count": 1,
      "metadata": {
        "colab": {
          "base_uri": "https://localhost:8080/"
        },
        "id": "rlhX5yVojB4k",
        "outputId": "8a5ec90e-5f64-4dea-9e72-069f7b8a9882"
      },
      "outputs": [
        {
          "output_type": "stream",
          "name": "stdout",
          "text": [
            "Collecting qU\n",
            "  Downloading qu-1.2.5.tar.gz (3.8 kB)\n",
            "  Preparing metadata (setup.py) ... \u001b[?25l\u001b[?25hdone\n",
            "Collecting langchain\n",
            "  Downloading langchain-0.1.0-py3-none-any.whl (797 kB)\n",
            "\u001b[2K     \u001b[90m━━━━━━━━━━━━━━━━━━━━━━━━━━━━━━━━━━━━━━━━\u001b[0m \u001b[32m798.0/798.0 kB\u001b[0m \u001b[31m12.4 MB/s\u001b[0m eta \u001b[36m0:00:00\u001b[0m\n",
            "\u001b[?25hCollecting openai\n",
            "  Downloading openai-1.6.1-py3-none-any.whl (225 kB)\n",
            "\u001b[2K     \u001b[90m━━━━━━━━━━━━━━━━━━━━━━━━━━━━━━━━━━━━━━━━\u001b[0m \u001b[32m225.4/225.4 kB\u001b[0m \u001b[31m14.7 MB/s\u001b[0m eta \u001b[36m0:00:00\u001b[0m\n",
            "\u001b[?25hCollecting qiniu>=7.2.0 (from qU)\n",
            "  Downloading qiniu-7.13.0-py3-none-any.whl (58 kB)\n",
            "\u001b[2K     \u001b[90m━━━━━━━━━━━━━━━━━━━━━━━━━━━━━━━━━━━━━━━━\u001b[0m \u001b[32m58.9/58.9 kB\u001b[0m \u001b[31m9.5 MB/s\u001b[0m eta \u001b[36m0:00:00\u001b[0m\n",
            "\u001b[?25hRequirement already satisfied: click>=6.7 in /usr/local/lib/python3.10/dist-packages (from qU) (8.1.7)\n",
            "Requirement already satisfied: pytest>=3.3.1 in /usr/local/lib/python3.10/dist-packages (from qU) (7.4.3)\n",
            "Requirement already satisfied: PyYAML>=5.3 in /usr/local/lib/python3.10/dist-packages (from langchain) (6.0.1)\n",
            "Requirement already satisfied: SQLAlchemy<3,>=1.4 in /usr/local/lib/python3.10/dist-packages (from langchain) (2.0.23)\n",
            "Requirement already satisfied: aiohttp<4.0.0,>=3.8.3 in /usr/local/lib/python3.10/dist-packages (from langchain) (3.9.1)\n",
            "Requirement already satisfied: async-timeout<5.0.0,>=4.0.0 in /usr/local/lib/python3.10/dist-packages (from langchain) (4.0.3)\n",
            "Collecting dataclasses-json<0.7,>=0.5.7 (from langchain)\n",
            "  Downloading dataclasses_json-0.6.3-py3-none-any.whl (28 kB)\n",
            "Collecting jsonpatch<2.0,>=1.33 (from langchain)\n",
            "  Downloading jsonpatch-1.33-py2.py3-none-any.whl (12 kB)\n",
            "Collecting langchain-community<0.1,>=0.0.9 (from langchain)\n",
            "  Downloading langchain_community-0.0.9-py3-none-any.whl (1.5 MB)\n",
            "\u001b[2K     \u001b[90m━━━━━━━━━━━━━━━━━━━━━━━━━━━━━━━━━━━━━━━━\u001b[0m \u001b[32m1.5/1.5 MB\u001b[0m \u001b[31m21.6 MB/s\u001b[0m eta \u001b[36m0:00:00\u001b[0m\n",
            "\u001b[?25hCollecting langchain-core<0.2,>=0.1.7 (from langchain)\n",
            "  Downloading langchain_core-0.1.7-py3-none-any.whl (214 kB)\n",
            "\u001b[2K     \u001b[90m━━━━━━━━━━━━━━━━━━━━━━━━━━━━━━━━━━━━━━━━\u001b[0m \u001b[32m214.3/214.3 kB\u001b[0m \u001b[31m15.5 MB/s\u001b[0m eta \u001b[36m0:00:00\u001b[0m\n",
            "\u001b[?25hCollecting langsmith<0.1.0,>=0.0.77 (from langchain)\n",
            "  Downloading langsmith-0.0.77-py3-none-any.whl (48 kB)\n",
            "\u001b[2K     \u001b[90m━━━━━━━━━━━━━━━━━━━━━━━━━━━━━━━━━━━━━━━━\u001b[0m \u001b[32m48.2/48.2 kB\u001b[0m \u001b[31m6.4 MB/s\u001b[0m eta \u001b[36m0:00:00\u001b[0m\n",
            "\u001b[?25hRequirement already satisfied: numpy<2,>=1 in /usr/local/lib/python3.10/dist-packages (from langchain) (1.23.5)\n",
            "Requirement already satisfied: pydantic<3,>=1 in /usr/local/lib/python3.10/dist-packages (from langchain) (1.10.13)\n",
            "Requirement already satisfied: requests<3,>=2 in /usr/local/lib/python3.10/dist-packages (from langchain) (2.31.0)\n",
            "Requirement already satisfied: tenacity<9.0.0,>=8.1.0 in /usr/local/lib/python3.10/dist-packages (from langchain) (8.2.3)\n",
            "Requirement already satisfied: anyio<5,>=3.5.0 in /usr/local/lib/python3.10/dist-packages (from openai) (3.7.1)\n",
            "Requirement already satisfied: distro<2,>=1.7.0 in /usr/lib/python3/dist-packages (from openai) (1.7.0)\n",
            "Collecting httpx<1,>=0.23.0 (from openai)\n",
            "  Downloading httpx-0.26.0-py3-none-any.whl (75 kB)\n",
            "\u001b[2K     \u001b[90m━━━━━━━━━━━━━━━━━━━━━━━━━━━━━━━━━━━━━━━━\u001b[0m \u001b[32m75.9/75.9 kB\u001b[0m \u001b[31m11.9 MB/s\u001b[0m eta \u001b[36m0:00:00\u001b[0m\n",
            "\u001b[?25hRequirement already satisfied: sniffio in /usr/local/lib/python3.10/dist-packages (from openai) (1.3.0)\n",
            "Requirement already satisfied: tqdm>4 in /usr/local/lib/python3.10/dist-packages (from openai) (4.66.1)\n",
            "Collecting typing-extensions<5,>=4.7 (from openai)\n",
            "  Downloading typing_extensions-4.9.0-py3-none-any.whl (32 kB)\n",
            "Requirement already satisfied: attrs>=17.3.0 in /usr/local/lib/python3.10/dist-packages (from aiohttp<4.0.0,>=3.8.3->langchain) (23.1.0)\n",
            "Requirement already satisfied: multidict<7.0,>=4.5 in /usr/local/lib/python3.10/dist-packages (from aiohttp<4.0.0,>=3.8.3->langchain) (6.0.4)\n",
            "Requirement already satisfied: yarl<2.0,>=1.0 in /usr/local/lib/python3.10/dist-packages (from aiohttp<4.0.0,>=3.8.3->langchain) (1.9.4)\n",
            "Requirement already satisfied: frozenlist>=1.1.1 in /usr/local/lib/python3.10/dist-packages (from aiohttp<4.0.0,>=3.8.3->langchain) (1.4.1)\n",
            "Requirement already satisfied: aiosignal>=1.1.2 in /usr/local/lib/python3.10/dist-packages (from aiohttp<4.0.0,>=3.8.3->langchain) (1.3.1)\n",
            "Requirement already satisfied: idna>=2.8 in /usr/local/lib/python3.10/dist-packages (from anyio<5,>=3.5.0->openai) (3.6)\n",
            "Requirement already satisfied: exceptiongroup in /usr/local/lib/python3.10/dist-packages (from anyio<5,>=3.5.0->openai) (1.2.0)\n",
            "Collecting marshmallow<4.0.0,>=3.18.0 (from dataclasses-json<0.7,>=0.5.7->langchain)\n",
            "  Downloading marshmallow-3.20.1-py3-none-any.whl (49 kB)\n",
            "\u001b[2K     \u001b[90m━━━━━━━━━━━━━━━━━━━━━━━━━━━━━━━━━━━━━━━━\u001b[0m \u001b[32m49.4/49.4 kB\u001b[0m \u001b[31m8.0 MB/s\u001b[0m eta \u001b[36m0:00:00\u001b[0m\n",
            "\u001b[?25hCollecting typing-inspect<1,>=0.4.0 (from dataclasses-json<0.7,>=0.5.7->langchain)\n",
            "  Downloading typing_inspect-0.9.0-py3-none-any.whl (8.8 kB)\n",
            "Requirement already satisfied: certifi in /usr/local/lib/python3.10/dist-packages (from httpx<1,>=0.23.0->openai) (2023.11.17)\n",
            "Collecting httpcore==1.* (from httpx<1,>=0.23.0->openai)\n",
            "  Downloading httpcore-1.0.2-py3-none-any.whl (76 kB)\n",
            "\u001b[2K     \u001b[90m━━━━━━━━━━━━━━━━━━━━━━━━━━━━━━━━━━━━━━━━\u001b[0m \u001b[32m76.9/76.9 kB\u001b[0m \u001b[31m10.6 MB/s\u001b[0m eta \u001b[36m0:00:00\u001b[0m\n",
            "\u001b[?25hCollecting h11<0.15,>=0.13 (from httpcore==1.*->httpx<1,>=0.23.0->openai)\n",
            "  Downloading h11-0.14.0-py3-none-any.whl (58 kB)\n",
            "\u001b[2K     \u001b[90m━━━━━━━━━━━━━━━━━━━━━━━━━━━━━━━━━━━━━━━━\u001b[0m \u001b[32m58.3/58.3 kB\u001b[0m \u001b[31m9.0 MB/s\u001b[0m eta \u001b[36m0:00:00\u001b[0m\n",
            "\u001b[?25hCollecting jsonpointer>=1.9 (from jsonpatch<2.0,>=1.33->langchain)\n",
            "  Downloading jsonpointer-2.4-py2.py3-none-any.whl (7.8 kB)\n",
            "Requirement already satisfied: packaging<24.0,>=23.2 in /usr/local/lib/python3.10/dist-packages (from langchain-core<0.2,>=0.1.7->langchain) (23.2)\n",
            "Requirement already satisfied: iniconfig in /usr/local/lib/python3.10/dist-packages (from pytest>=3.3.1->qU) (2.0.0)\n",
            "Requirement already satisfied: pluggy<2.0,>=0.12 in /usr/local/lib/python3.10/dist-packages (from pytest>=3.3.1->qU) (1.3.0)\n",
            "Requirement already satisfied: tomli>=1.0.0 in /usr/local/lib/python3.10/dist-packages (from pytest>=3.3.1->qU) (2.0.1)\n",
            "Requirement already satisfied: charset-normalizer<4,>=2 in /usr/local/lib/python3.10/dist-packages (from requests<3,>=2->langchain) (3.3.2)\n",
            "Requirement already satisfied: urllib3<3,>=1.21.1 in /usr/local/lib/python3.10/dist-packages (from requests<3,>=2->langchain) (2.0.7)\n",
            "Requirement already satisfied: greenlet!=0.4.17 in /usr/local/lib/python3.10/dist-packages (from SQLAlchemy<3,>=1.4->langchain) (3.0.2)\n",
            "Collecting mypy-extensions>=0.3.0 (from typing-inspect<1,>=0.4.0->dataclasses-json<0.7,>=0.5.7->langchain)\n",
            "  Downloading mypy_extensions-1.0.0-py3-none-any.whl (4.7 kB)\n",
            "Building wheels for collected packages: qU\n",
            "  Building wheel for qU (setup.py) ... \u001b[?25l\u001b[?25hdone\n",
            "  Created wheel for qU: filename=qu-1.2.5-py3-none-any.whl size=3821 sha256=d3d7542ec415f73124a4a40a1a5b27c150e296f6cb4030c3ef8a95032efe30ee\n",
            "  Stored in directory: /root/.cache/pip/wheels/63/67/6f/f135053c2417e6f02eba0d670d9468c23a0c38c8ad404854cf\n",
            "Successfully built qU\n",
            "Installing collected packages: typing-extensions, mypy-extensions, marshmallow, jsonpointer, h11, typing-inspect, qiniu, jsonpatch, httpcore, qU, langsmith, httpx, dataclasses-json, openai, langchain-core, langchain-community, langchain\n",
            "  Attempting uninstall: typing-extensions\n",
            "    Found existing installation: typing_extensions 4.5.0\n",
            "    Uninstalling typing_extensions-4.5.0:\n",
            "      Successfully uninstalled typing_extensions-4.5.0\n",
            "\u001b[31mERROR: pip's dependency resolver does not currently take into account all the packages that are installed. This behaviour is the source of the following dependency conflicts.\n",
            "llmx 0.0.15a0 requires cohere, which is not installed.\n",
            "llmx 0.0.15a0 requires tiktoken, which is not installed.\n",
            "tensorflow-probability 0.22.0 requires typing-extensions<4.6.0, but you have typing-extensions 4.9.0 which is incompatible.\u001b[0m\u001b[31m\n",
            "\u001b[0mSuccessfully installed dataclasses-json-0.6.3 h11-0.14.0 httpcore-1.0.2 httpx-0.26.0 jsonpatch-1.33 jsonpointer-2.4 langchain-0.1.0 langchain-community-0.0.9 langchain-core-0.1.7 langsmith-0.0.77 marshmallow-3.20.1 mypy-extensions-1.0.0 openai-1.6.1 qU-1.2.5 qiniu-7.13.0 typing-extensions-4.9.0 typing-inspect-0.9.0\n"
          ]
        }
      ],
      "source": [
        "!pip install qU langchain openai"
      ]
    },
    {
      "cell_type": "code",
      "source": [
        "from getpass import getpass\n",
        "import os\n",
        "\n",
        "os.environ['OPENAI_API_KEY'] = getpass()"
      ],
      "metadata": {
        "colab": {
          "base_uri": "https://localhost:8080/"
        },
        "id": "tQCp7Qg4jcVx",
        "outputId": "30697e56-cb7a-4551-d231-a140a7019468"
      },
      "execution_count": 2,
      "outputs": [
        {
          "name": "stdout",
          "output_type": "stream",
          "text": [
            "··········\n"
          ]
        }
      ]
    },
    {
      "cell_type": "code",
      "source": [
        "from langchain.chat_models import ChatOpenAI\n",
        "model = ChatOpenAI(temperature = 0,\n",
        "                   model = \"gpt-4\")"
      ],
      "metadata": {
        "colab": {
          "base_uri": "https://localhost:8080/"
        },
        "id": "szMSABGKl0TO",
        "outputId": "7b62a530-8c06-48b5-e680-9599e06fab13"
      },
      "execution_count": 3,
      "outputs": [
        {
          "output_type": "stream",
          "name": "stderr",
          "text": [
            "/usr/local/lib/python3.10/dist-packages/langchain_core/_api/deprecation.py:189: LangChainDeprecationWarning: The class `ChatOpenAI` was deprecated in LangChain 0.1.0 and will be removed in 0.2.0. Use langchain_openai.ChatOpenAI instead.\n",
            "  warn_deprecated(\n"
          ]
        }
      ]
    },
    {
      "cell_type": "markdown",
      "source": [
        "LangChain offers 3 different format to ChatCompletion endpoint. They are:-\n",
        "\n",
        "1. SystemMessage\n",
        "2. HumanMessage\n",
        "3. AIMessage\n",
        "\n",
        "All the formats are self explanatory by name itself."
      ],
      "metadata": {
        "id": "MPKNq6p9MCve"
      }
    },
    {
      "cell_type": "code",
      "source": [
        "from langchain.schema import (SystemMessage,\n",
        "                              HumanMessage,\n",
        "                              AIMessage\n",
        "                              )\n",
        "\n",
        "messages = [\n",
        "    SystemMessage(content = \"You are a useful assistant.\"),\n",
        "    HumanMessage(content = \"Hi AI, how are you doing today?\"),\n",
        "    AIMessage(content = \"I'm great. Thank you! How can I help?\"),\n",
        "    HumanMessage(content = \"Can you tell me something about India?\")\n",
        "    ]"
      ],
      "metadata": {
        "id": "rffxfROZmbS7"
      },
      "execution_count": 4,
      "outputs": []
    },
    {
      "cell_type": "code",
      "source": [
        "response = model(messages)"
      ],
      "metadata": {
        "colab": {
          "base_uri": "https://localhost:8080/"
        },
        "id": "TJUzb9HEoZuC",
        "outputId": "39ef19b9-0362-4f61-a3a2-eb08bcca30b0"
      },
      "execution_count": 5,
      "outputs": [
        {
          "output_type": "stream",
          "name": "stderr",
          "text": [
            "/usr/local/lib/python3.10/dist-packages/langchain_core/_api/deprecation.py:189: LangChainDeprecationWarning: The function `__call__` was deprecated in LangChain 0.1.7 and will be removed in 0.2.0. Use invoke instead.\n",
            "  warn_deprecated(\n"
          ]
        }
      ]
    },
    {
      "cell_type": "code",
      "source": [
        "response"
      ],
      "metadata": {
        "colab": {
          "base_uri": "https://localhost:8080/"
        },
        "id": "q550TwiGoj8c",
        "outputId": "86e39e58-ba5f-4255-f951-9e451ba2890b"
      },
      "execution_count": 6,
      "outputs": [
        {
          "output_type": "execute_result",
          "data": {
            "text/plain": [
              "AIMessage(content=\"Sure, I'd be happy to share some information about India.\\n\\nIndia, officially known as the Republic of India, is located in South Asia. It is the seventh-largest country by land area and the second-most populous country in the world, with over 1.3 billion people. \\n\\nIndia is known for its rich history and cultural diversity, with thousands of distinct and unique arts, languages, religions, and music. It is the birthplace of four major world religions: Hinduism, Buddhism, Jainism, and Sikhism.\\n\\nThe country's political system is a federal parliamentary democratic republic, in which the President of India is the head of state and the Prime Minister of India is the head of government.\\n\\nIndia has a mixed economy, with agriculture, manufacturing, and services sectors being the country's three major sectors. However, it is known for its significant contributions to the IT and software services sector.\\n\\nIndia's culture and heritage are a rich amalgam of the past and the present and offers extensive cultural diversity with its varied customs, traditions, rituals, festivals, and cuisines.\\n\\nFamous landmarks include the Taj Mahal, Jaipur’s City Palace, the holy city of Varanasi, the scenic beauty of Kerala's backwaters, and more. \\n\\nIndia's official languages are Hindi and English, but there are 21 other officially recognized regional languages as well. \\n\\nThis is just a brief overview, and there's much more to know about India.\")"
            ]
          },
          "metadata": {},
          "execution_count": 6
        }
      ]
    },
    {
      "cell_type": "code",
      "source": [
        "print(response.content)"
      ],
      "metadata": {
        "colab": {
          "base_uri": "https://localhost:8080/"
        },
        "id": "fGRU2CIgopJi",
        "outputId": "3e1b05d8-9890-49b5-ebca-2b6f4b70d6d9"
      },
      "execution_count": 7,
      "outputs": [
        {
          "output_type": "stream",
          "name": "stdout",
          "text": [
            "Sure, I'd be happy to share some information about India.\n",
            "\n",
            "India, officially known as the Republic of India, is located in South Asia. It is the seventh-largest country by land area and the second-most populous country in the world, with over 1.3 billion people. \n",
            "\n",
            "India is known for its rich history and cultural diversity, with thousands of distinct and unique arts, languages, religions, and music. It is the birthplace of four major world religions: Hinduism, Buddhism, Jainism, and Sikhism.\n",
            "\n",
            "The country's political system is a federal parliamentary democratic republic, in which the President of India is the head of state and the Prime Minister of India is the head of government.\n",
            "\n",
            "India has a mixed economy, with agriculture, manufacturing, and services sectors being the country's three major sectors. However, it is known for its significant contributions to the IT and software services sector.\n",
            "\n",
            "India's culture and heritage are a rich amalgam of the past and the present and offers extensive cultural diversity with its varied customs, traditions, rituals, festivals, and cuisines.\n",
            "\n",
            "Famous landmarks include the Taj Mahal, Jaipur’s City Palace, the holy city of Varanasi, the scenic beauty of Kerala's backwaters, and more. \n",
            "\n",
            "India's official languages are Hindi and English, but there are 21 other officially recognized regional languages as well. \n",
            "\n",
            "This is just a brief overview, and there's much more to know about India.\n"
          ]
        }
      ]
    },
    {
      "cell_type": "markdown",
      "source": [
        "The response is an AI message. We can always append this to our original chat messages and ask questions to generate the next respose.\n"
      ],
      "metadata": {
        "id": "6U9b9dijplKs"
      }
    },
    {
      "cell_type": "code",
      "source": [
        "messages.append(response)\n",
        "messages.append(\n",
        "    HumanMessage(content  = \"Yes, I wanted to know about it's culture.\")\n",
        ")\n",
        "\n",
        "response = model(messages)"
      ],
      "metadata": {
        "colab": {
          "base_uri": "https://localhost:8080/"
        },
        "id": "s78T_0mvozV-",
        "outputId": "bd7d887a-ca52-4b6e-ab34-7755980d8938"
      },
      "execution_count": 8,
      "outputs": [
        {
          "output_type": "stream",
          "name": "stderr",
          "text": [
            "/usr/local/lib/python3.10/dist-packages/langchain_core/_api/deprecation.py:189: LangChainDeprecationWarning: The function `__call__` was deprecated in LangChain 0.1.7 and will be removed in 0.2.0. Use invoke instead.\n",
            "  warn_deprecated(\n"
          ]
        }
      ]
    },
    {
      "cell_type": "code",
      "source": [
        "print(response.content)"
      ],
      "metadata": {
        "colab": {
          "base_uri": "https://localhost:8080/"
        },
        "id": "gBb6mY-zqExk",
        "outputId": "a24d9b6f-17ee-4c57-ba0d-4044385d440d"
      },
      "execution_count": 9,
      "outputs": [
        {
          "output_type": "stream",
          "name": "stdout",
          "text": [
            "India's culture is among the world's oldest, with civilization in the region dating back at least 5,000 years. The culture of India is an amalgamation of diverse sub-cultures spread all over the Indian subcontinent and traditions that are several millennia old.\n",
            "\n",
            "India is known for its love of food, with a wide variety of regional cuisines found across the country. The spices, techniques, and dishes vary from region to region, reflecting the country's diverse ethnicities and histories.\n",
            "\n",
            "Religion plays a central role in the lives of many Indians, with the major religions being Hinduism, Islam, Christianity, Sikhism, Buddhism, and Jainism. These religions influence everything from food habits to clothing and social customs.\n",
            "\n",
            "Indian clothing varies based on the different ethnicity, geography, climate, and cultural traditions of the people of each region. The traditional Indian attire is the sari for women and the dhoti or lungi for men. However, in urban areas, western clothing is common, and an increasing number of people are blending western and Indian dress styles.\n",
            "\n",
            "India is also well known for its contributions to art, which include visual arts (such as pottery, painting, and sculpture), performing arts (like dance, music, and theatre), and textile arts (like woven silk). Indian music ranges from folk and classical music to pop and filmi music.\n",
            "\n",
            "Festivals in India are celebrated with great fervor and are a way of life. The numerous cultural and religious festivals like Diwali, Holi, Eid, Christmas, Pongal, Navaratri, and Durga Puja, to name a few, are celebrated by people across the country.\n",
            "\n",
            "India's rich cultural heritage, including its many languages, religions, and cuisines, is a symbol of its diversity and is deeply ingrained in every aspect of life in the country.\n"
          ]
        }
      ]
    },
    {
      "cell_type": "code",
      "source": [],
      "metadata": {
        "id": "S4RSoC2WqHi0"
      },
      "execution_count": 9,
      "outputs": []
    },
    {
      "cell_type": "markdown",
      "source": [
        "Alongside message format there are three different PromptTemplates for ChatCompletion models and those are:-\n",
        "1. SystemMessagePromptTemplate\n",
        "2. HumanMessagePromptTemplate\n",
        "3. AIMessagePromptTemplate\n"
      ],
      "metadata": {
        "id": "RXHI1t_JMycb"
      }
    },
    {
      "cell_type": "markdown",
      "source": [
        "Let's say we want our AI response to be not more than 20 words."
      ],
      "metadata": {
        "id": "j7suwnOIN2g_"
      }
    },
    {
      "cell_type": "code",
      "source": [
        "!pip install -qU langchain_openai"
      ],
      "metadata": {
        "id": "ep7Sz9XhPZY4"
      },
      "execution_count": 67,
      "outputs": []
    },
    {
      "cell_type": "code",
      "source": [
        "from langchain_openai import ChatOpenAI\n",
        "model = ChatOpenAI(\n",
        "    temperature = 0.9,\n",
        "    model = \"gpt-3.5-turbo\"\n",
        ")\n",
        "\n",
        "message = [\n",
        "    SystemMessage(content = \"\"\"You are a helpful assistant.\n",
        "    Your task is to answer the query in less than 20 words.\n",
        "    Sign off every message with a random name like MikMac, BotPot, etc..\n",
        "    \"\"\"),\n",
        "    HumanMessage(content = \"Hi, Could you please tell me something about India?\")\n",
        "]"
      ],
      "metadata": {
        "id": "1XiKhxWPNlic"
      },
      "execution_count": 76,
      "outputs": []
    },
    {
      "cell_type": "code",
      "source": [
        "response = model.invoke(message)\n",
        "print(f\"Length : {len(response.content.split())} \\n{response.content}\")"
      ],
      "metadata": {
        "colab": {
          "base_uri": "https://localhost:8080/"
        },
        "id": "zZx6Y5yzPzcb",
        "outputId": "f833666e-14c4-4aa1-b875-0a97b9db0e66"
      },
      "execution_count": 78,
      "outputs": [
        {
          "output_type": "stream",
          "name": "stdout",
          "text": [
            "Length : 20 \n",
            "India is a diverse country in South Asia known for its rich cultural heritage, historical landmarks, and vibrant traditions. -BotPot\n"
          ]
        }
      ]
    },
    {
      "cell_type": "code",
      "source": [
        "from langchain.prompts.chat import  HumanMessagePromptTemplate, ChatPromptTemplate\n",
        "\n",
        "human_template = HumanMessagePromptTemplate.from_template(\n",
        "    \"\"\"{input} Answer the query in less than 20 words.\n",
        "    Sign off every message with a random name like MikMac, BotPot, etc..\"\"\"\n",
        ")\n",
        "\n",
        "chat_prompt = ChatPromptTemplate.from_messages([human_template])\n",
        "\n",
        "# format with some input\n",
        "chat_prompt_value = chat_prompt.format_prompt(\n",
        "    input = \"Hi All, how are you? Can you tell me something about India?\"\n",
        ")\n",
        "\n",
        "chat_prompt_value"
      ],
      "metadata": {
        "colab": {
          "base_uri": "https://localhost:8080/"
        },
        "id": "JBCI8iXrQUGj",
        "outputId": "fa09f828-2e9f-41d3-e439-7fbe77494d53"
      },
      "execution_count": 79,
      "outputs": [
        {
          "output_type": "execute_result",
          "data": {
            "text/plain": [
              "ChatPromptValue(messages=[HumanMessage(content='Hi All, how are you? Can you tell me something about India? Answer the query in less than 20 words.\\n    Sign off every message with a random name like MikMac, BotPot, etc..')])"
            ]
          },
          "metadata": {},
          "execution_count": 79
        }
      ]
    },
    {
      "cell_type": "markdown",
      "source": [
        "Note: To use `HumanMessagePromptTemplate` as typical a prompt templates with the .format_prompt method, we needed to pass it through a `ChatPromptTemplate` object. This is case for all of the new chat-based prompt templates."
      ],
      "metadata": {
        "id": "hQwZHCsvUd5N"
      }
    },
    {
      "cell_type": "markdown",
      "source": [
        "Using this we return a `ChatPromptValue` object. This can be formatted into a list or string like so:"
      ],
      "metadata": {
        "id": "WLN7qqS8U4ys"
      }
    },
    {
      "cell_type": "code",
      "source": [
        "chat_prompt_value.to_messages()"
      ],
      "metadata": {
        "colab": {
          "base_uri": "https://localhost:8080/"
        },
        "id": "rMnCYsSkSJ7b",
        "outputId": "61da8ce9-98ad-4de9-b636-a6b3159efe14"
      },
      "execution_count": 80,
      "outputs": [
        {
          "output_type": "execute_result",
          "data": {
            "text/plain": [
              "[HumanMessage(content='Hi All, how are you? Can you tell me something about India? Answer the query in less than 20 words.\\n    Sign off every message with a random name like MikMac, BotPot, etc..')]"
            ]
          },
          "metadata": {},
          "execution_count": 80
        }
      ]
    },
    {
      "cell_type": "code",
      "source": [
        "chat_prompt_value.to_string()"
      ],
      "metadata": {
        "colab": {
          "base_uri": "https://localhost:8080/",
          "height": 54
        },
        "id": "YYyrtoMiUqRD",
        "outputId": "57659b6c-50d7-48dd-b373-c73d6e88b899"
      },
      "execution_count": 81,
      "outputs": [
        {
          "output_type": "execute_result",
          "data": {
            "text/plain": [
              "'Human: Hi All, how are you? Can you tell me something about India? Answer the query in less than 20 words.\\n    Sign off every message with a random name like MikMac, BotPot, etc..'"
            ],
            "application/vnd.google.colaboratory.intrinsic+json": {
              "type": "string"
            }
          },
          "metadata": {},
          "execution_count": 81
        }
      ]
    },
    {
      "cell_type": "code",
      "source": [],
      "metadata": {
        "id": "CJ4fER_KU2vo"
      },
      "execution_count": 81,
      "outputs": []
    },
    {
      "cell_type": "markdown",
      "source": [
        "Let's jump and see if this new approach works."
      ],
      "metadata": {
        "id": "jjFgAMqzVGD9"
      }
    },
    {
      "cell_type": "code",
      "source": [
        "message = [\n",
        "    SystemMessage(content = \"\"\"You are a helpful assistant.\n",
        "    Your task is to answer the query in less than 20 words.\n",
        "    Sign off every message with a random name like MikMac, BotPot, etc..\n",
        "    \"\"\"),\n",
        "    chat_prompt.format_prompt(\n",
        "    input = \"Hi All, how are you? Can you tell me something about India?\"\n",
        ").to_messages()[0]\n",
        "]"
      ],
      "metadata": {
        "id": "leZCi8HBVUvC"
      },
      "execution_count": 82,
      "outputs": []
    },
    {
      "cell_type": "code",
      "source": [
        "message"
      ],
      "metadata": {
        "colab": {
          "base_uri": "https://localhost:8080/"
        },
        "id": "pP-flWLmWHOP",
        "outputId": "6a7b1cc1-02b7-46ae-a406-4e6b2dec004b"
      },
      "execution_count": 83,
      "outputs": [
        {
          "output_type": "execute_result",
          "data": {
            "text/plain": [
              "[SystemMessage(content='You are a helpful assistant. \\n    Your task is to answer the query in less than 20 words.\\n    Sign off every message with a random name like MikMac, BotPot, etc..\\n    '),\n",
              " HumanMessage(content='Hi All, how are you? Can you tell me something about India? Answer the query in less than 20 words.\\n    Sign off every message with a random name like MikMac, BotPot, etc..')]"
            ]
          },
          "metadata": {},
          "execution_count": 83
        }
      ]
    },
    {
      "cell_type": "code",
      "source": [
        "reponse = model.invoke(message)\n",
        "print(f\"Length : {len(response.content.split())} \\n{response.content}\")"
      ],
      "metadata": {
        "colab": {
          "base_uri": "https://localhost:8080/"
        },
        "id": "hYAvHov1WR7y",
        "outputId": "3fdc1fd9-207d-4c3d-e8be-aa05385cab86"
      },
      "execution_count": 85,
      "outputs": [
        {
          "output_type": "stream",
          "name": "stdout",
          "text": [
            "Length : 20 \n",
            "India is a diverse country in South Asia known for its rich cultural heritage, historical landmarks, and vibrant traditions. -BotPot\n"
          ]
        }
      ]
    },
    {
      "cell_type": "code",
      "source": [],
      "metadata": {
        "id": "qVRM8ktnWnZp"
      },
      "execution_count": 75,
      "outputs": []
    }
  ]
}